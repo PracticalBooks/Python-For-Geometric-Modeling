{
  "nbformat": 4,
  "nbformat_minor": 0,
  "metadata": {
    "colab": {
      "provenance": []
    },
    "kernelspec": {
      "name": "python3",
      "display_name": "Python 3"
    },
    "language_info": {
      "name": "python"
    }
  },
  "cells": [
    {
      "cell_type": "markdown",
      "source": [
        "**Running Dash applications in Colab**"
      ],
      "metadata": {
        "id": "fcUhETbC7Cnv"
      }
    },
    {
      "cell_type": "code",
      "execution_count": null,
      "metadata": {
        "id": "Cx0feLuepZcP"
      },
      "outputs": [],
      "source": [
        "!pip install dash"
      ]
    },
    {
      "cell_type": "code",
      "source": [
        "!pip install dash\n",
        "from dash import Dash, html, dcc\n",
        "import plotly.graph_objects as go\n",
        "import numpy as np\n",
        "app = Dash(\"Geometric Modeling - Web App\")\n",
        "\n",
        "u = np.linspace(0,2*np.pi,200)\n",
        "v = np.linspace(0,np.pi,200)\n",
        "U, V = np.meshgrid(u,v)\n",
        "a = 5\n",
        "b = 7\n",
        "r = np.sin(a*U+b*V)\n",
        "X = r * np.cos(U) * np.sin(V)\n",
        "Y = r * np.cos(V)\n",
        "Z = r * np.sin(U) * np.sin(V)\n",
        "fig = go.Figure(go.Surface(x=X,y=Y,z=Z,opacity=1,colorscale ='cividis',showscale=False,\n",
        "                contours=dict(x=dict(show=True),y=dict(show=True),z=dict(show=True))))\n",
        "fig.update_layout(scene = dict(aspectratio = dict(x=1.5, y=1.5, z=1.5)))\n",
        "\n",
        "app.layout = html.Div([html.H3('Pametric Surface', style={'text-align': 'center'}),\n",
        "    dcc.Graph(figure=fig),html.P([\"© Python for Geometric Modeling - 2024\"],\n",
        "    style={'text-align': 'center'}),])\n",
        "app.run()"
      ],
      "metadata": {
        "id": "EODx5Wu0pfaO"
      },
      "execution_count": null,
      "outputs": []
    }
  ]
}