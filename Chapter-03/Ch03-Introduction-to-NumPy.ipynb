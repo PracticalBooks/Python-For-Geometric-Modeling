{
  "nbformat": 4,
  "nbformat_minor": 0,
  "metadata": {
    "colab": {
      "provenance": []
    },
    "kernelspec": {
      "name": "python3",
      "display_name": "Python 3"
    },
    "language_info": {
      "name": "python"
    }
  },
  "cells": [
    {
      "cell_type": "markdown",
      "source": [
        "**Defining scalar values using NumPy**"
      ],
      "metadata": {
        "id": "5DhD-yQo79sH"
      }
    },
    {
      "cell_type": "code",
      "execution_count": 1,
      "metadata": {
        "colab": {
          "base_uri": "https://localhost:8080/"
        },
        "id": "7_Ppqf3E5U1a",
        "outputId": "2456e156-6c03-4fdb-f22a-21f4363bc4a6"
      },
      "outputs": [
        {
          "output_type": "stream",
          "name": "stdout",
          "text": [
            "a:  4\n",
            "b:  3.141592653589793\n"
          ]
        }
      ],
      "source": [
        "import numpy as np\n",
        "a = 4\n",
        "b = np.pi\n",
        "print('a: ', a)\n",
        "print('b: ', b)"
      ]
    },
    {
      "cell_type": "markdown",
      "source": [
        "**One-dimensional array**"
      ],
      "metadata": {
        "id": "5MuuQg-Z7_xv"
      }
    },
    {
      "cell_type": "code",
      "source": [
        "import numpy as np\n",
        "u = np.array([3,4,5])\n",
        "v = np.linspace(1,3,5)\n",
        "print('u: ', u)\n",
        "print('v: ', v)"
      ],
      "metadata": {
        "colab": {
          "base_uri": "https://localhost:8080/"
        },
        "id": "vohQpT5k79dE",
        "outputId": "ee342b8f-379a-42b4-832d-207af2ad9bdf"
      },
      "execution_count": 2,
      "outputs": [
        {
          "output_type": "stream",
          "name": "stdout",
          "text": [
            "u:  [3 4 5]\n",
            "v:  [1.  1.5 2.  2.5 3. ]\n"
          ]
        }
      ]
    },
    {
      "cell_type": "markdown",
      "source": [
        "**Using mathematical functions with NumPy**"
      ],
      "metadata": {
        "id": "ps3AqB_j-_SK"
      }
    },
    {
      "cell_type": "code",
      "source": [
        "import numpy as np\n",
        "a = np.pi/3\n",
        "u = np.linspace(1,np.pi,4)\n",
        "x = np.abs(a)\n",
        "y = np.cos(u)\n",
        "z = np.log10(a*u)\n",
        "print('x: ', x)\n",
        "print('y: ', y)\n",
        "print('z: ', z)"
      ],
      "metadata": {
        "colab": {
          "base_uri": "https://localhost:8080/"
        },
        "id": "xjuGiEHC-_X-",
        "outputId": "b2d537c7-8d6f-4f81-879c-83785b84dcf7"
      },
      "execution_count": 3,
      "outputs": [
        {
          "output_type": "stream",
          "name": "stdout",
          "text": [
            "x:  1.0471975511965976\n",
            "y:  [ 0.54030231 -0.14258033 -0.75583739 -1.        ]\n",
            "z:  [0.02002862 0.25400503 0.40522872 0.51717849]\n"
          ]
        }
      ]
    },
    {
      "cell_type": "markdown",
      "source": [
        "**Applying mathematical operations**"
      ],
      "metadata": {
        "id": "V26J8zvd_mX-"
      }
    },
    {
      "cell_type": "code",
      "source": [
        "import numpy as np\n",
        "a = np.pi/3\n",
        "u = np.linspace(0,np.pi,4)\n",
        "x = np.sin(a) + np.cos(u)\n",
        "y = np.log10(2*a) * np.sin(u**2) + 1\n",
        "print('x: ', x)\n",
        "print('y: ', y)"
      ],
      "metadata": {
        "colab": {
          "base_uri": "https://localhost:8080/"
        },
        "id": "sQkag6AH_hRl",
        "outputId": "cca48d82-00f2-48ec-d84b-578382c20b90"
      },
      "execution_count": 4,
      "outputs": [
        {
          "output_type": "stream",
          "name": "stdout",
          "text": [
            "x:  [ 1.8660254  1.3660254  0.3660254 -0.1339746]\n",
            "y:  [1.         1.28563633 0.69584077 0.86184809]\n"
          ]
        }
      ]
    }
  ]
}