{
  "nbformat": 4,
  "nbformat_minor": 0,
  "metadata": {
    "colab": {
      "provenance": []
    },
    "kernelspec": {
      "name": "python3",
      "display_name": "Python 3"
    },
    "language_info": {
      "name": "python"
    }
  },
  "cells": [
    {
      "cell_type": "markdown",
      "source": [
        "**Defining scalar values using NumPy**"
      ],
      "metadata": {
        "id": "5DhD-yQo79sH"
      }
    },
    {
      "cell_type": "code",
      "execution_count": null,
      "metadata": {
        "colab": {
          "base_uri": "https://localhost:8080/"
        },
        "id": "7_Ppqf3E5U1a",
        "outputId": "2456e156-6c03-4fdb-f22a-21f4363bc4a6"
      },
      "outputs": [
        {
          "output_type": "stream",
          "name": "stdout",
          "text": [
            "a:  4\n",
            "b:  3.141592653589793\n"
          ]
        }
      ],
      "source": [
        "import numpy as np\n",
        "a = 4\n",
        "b = np.pi\n",
        "print('a: ', a)\n",
        "print('b: ', b)"
      ]
    },
    {
      "cell_type": "markdown",
      "source": [
        "**One-dimensional array**"
      ],
      "metadata": {
        "id": "5MuuQg-Z7_xv"
      }
    },
    {
      "cell_type": "code",
      "source": [
        "import numpy as np\n",
        "u = np.array([3,4,5])\n",
        "v = np.linspace(1,3,5)\n",
        "print('u: ', u)\n",
        "print('v: ', v)"
      ],
      "metadata": {
        "colab": {
          "base_uri": "https://localhost:8080/"
        },
        "id": "vohQpT5k79dE",
        "outputId": "ee342b8f-379a-42b4-832d-207af2ad9bdf"
      },
      "execution_count": null,
      "outputs": [
        {
          "output_type": "stream",
          "name": "stdout",
          "text": [
            "u:  [3 4 5]\n",
            "v:  [1.  1.5 2.  2.5 3. ]\n"
          ]
        }
      ]
    },
    {
      "cell_type": "markdown",
      "source": [
        "**Multi-dimensional array**"
      ],
      "metadata": {
        "id": "fGBiHGli7iv0"
      }
    },
    {
      "cell_type": "code",
      "source": [
        "import numpy as np\n",
        "u = np.array([[3,4,5],[9,7,2]])\n",
        "v = np.ones([2,4])\n",
        "print('u: ', u)\n",
        "print('v: ', v)"
      ],
      "metadata": {
        "colab": {
          "base_uri": "https://localhost:8080/"
        },
        "id": "SoJdgG8A7jZo",
        "outputId": "9123aad4-b2a7-483f-ed5e-c7620c0a03bc"
      },
      "execution_count": 1,
      "outputs": [
        {
          "output_type": "stream",
          "name": "stdout",
          "text": [
            "u:  [[3 4 5]\n",
            " [9 7 2]]\n",
            "v:  [[1. 1. 1. 1.]\n",
            " [1. 1. 1. 1.]]\n"
          ]
        }
      ]
    },
    {
      "cell_type": "markdown",
      "source": [
        "**Using mathematical functions with NumPy**"
      ],
      "metadata": {
        "id": "ps3AqB_j-_SK"
      }
    },
    {
      "cell_type": "code",
      "source": [
        "import numpy as np\n",
        "u = np.pi/3\n",
        "v = np.linspace(1,np.pi,4)\n",
        "a = np.abs(u)\n",
        "b = np.cos(v)\n",
        "c = np.log10(u*v)\n",
        "x = np.sin(u) + np.cos(v)\n",
        "y = np.log10(2*u) * np.sin(v**2) + 1\n",
        "print('a: ', a)\n",
        "print('b: ', b)\n",
        "print('c ', c)\n",
        "print('x: ', x)\n",
        "print('y: ', y)"
      ],
      "metadata": {
        "colab": {
          "base_uri": "https://localhost:8080/"
        },
        "id": "xjuGiEHC-_X-",
        "outputId": "9bab13c5-bba7-47c1-c463-86fc1655f811"
      },
      "execution_count": 2,
      "outputs": [
        {
          "output_type": "stream",
          "name": "stdout",
          "text": [
            "a:  1.0471975511965976\n",
            "b:  [ 0.54030231 -0.14258033 -0.75583739 -1.        ]\n",
            "c  [0.02002862 0.25400503 0.40522872 0.51717849]\n",
            "x:  [ 1.40632771  0.72344508  0.11018801 -0.1339746 ]\n",
            "y:  [1.27016151 1.06512502 0.8781392  0.86184809]\n"
          ]
        }
      ]
    }
  ]
}