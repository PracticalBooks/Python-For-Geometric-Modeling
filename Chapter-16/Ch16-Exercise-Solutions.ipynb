{
  "nbformat": 4,
  "nbformat_minor": 0,
  "metadata": {
    "colab": {
      "provenance": []
    },
    "kernelspec": {
      "name": "python3",
      "display_name": "Python 3"
    },
    "language_info": {
      "name": "python"
    }
  },
  "cells": [
    {
      "cell_type": "markdown",
      "source": [
        "**16.1. Solutions to exercises in Chapter 07**"
      ],
      "metadata": {
        "id": "LytMECeCigQr"
      }
    },
    {
      "cell_type": "markdown",
      "source": [
        "**E.7.1.**\n",
        "**Equation E7-1 matches with Figure E7-2.**"
      ],
      "metadata": {
        "id": "eCzk6QjCii1s"
      }
    },
    {
      "cell_type": "code",
      "execution_count": null,
      "metadata": {
        "id": "20aMOXorh8OD"
      },
      "outputs": [],
      "source": [
        "import numpy as np\n",
        "import plotly.express as px\n",
        "u = np.linspace(-2*np.pi,2*np.pi,200)\n",
        "x = u\n",
        "y = 2*x*np.sin(x) + np.cos(5*x)\n",
        "fig = px.line(x=x,y=y)\n",
        "fig.update_traces(line_color='black',line_width=4)\n",
        "fig.update_layout(title='x = (y^2 + 1) / (2y)',autosize=False)\n",
        "plt.show()"
      ]
    },
    {
      "cell_type": "markdown",
      "source": [
        "**Equation E7-2 matches with Figure E7-1.**"
      ],
      "metadata": {
        "id": "dh1_9DM_itQa"
      }
    },
    {
      "cell_type": "code",
      "source": [
        "import numpy as np\n",
        "import plotly.express as px\n",
        "u = np.linspace(0.2,5,50)\n",
        "y = u\n",
        "x = (y**2+1) / (2*y)\n",
        "fig = px.line(x=x,y=y)\n",
        "fig.update_traces(line_color='black',line_width=4)\n",
        "fig.update_layout(title='x = (y^2 + 1) / (2y)',autosize=False)\n",
        "plt.show()"
      ],
      "metadata": {
        "id": "-lnSG9Qtiuqj"
      },
      "execution_count": null,
      "outputs": []
    },
    {
      "cell_type": "markdown",
      "source": [
        "**E.7.2.**\n",
        "**Equation E7-3 matches with Figure E7-6.**"
      ],
      "metadata": {
        "id": "DHurq13miypD"
      }
    },
    {
      "cell_type": "code",
      "source": [
        "import numpy as np\n",
        "import plotly.express as px\n",
        "u = np.linspace(0,2*np.pi,200)\n",
        "x = np.sin(2*u)\n",
        "y = np.cos(3*u)\n",
        "fig = px.line(x=x,y=y)\n",
        "fig.update_traces(line_color='black',line_width=4)\n",
        "fig.update_yaxes(scaleanchor=\"x\",scaleratio=1)\n",
        "plt.show()"
      ],
      "metadata": {
        "id": "NU8azXiJi03q"
      },
      "execution_count": null,
      "outputs": []
    },
    {
      "cell_type": "markdown",
      "source": [
        "**Equation E7-4 matches with Figure E7-5.**"
      ],
      "metadata": {
        "id": "lxX-XN0li2qK"
      }
    },
    {
      "cell_type": "code",
      "source": [
        "import numpy as np\n",
        "import plotly.express as px\n",
        "u = np.linspace(0,2*np.pi,200)\n",
        "r = 1 + 2*np.sin(3*u)\n",
        "x = r * np.cos(u)\n",
        "y = r * np.sin(u)\n",
        "fig = px.line(x=x,y=y)\n",
        "fig.update_traces(line_color='black',line_width=4)\n",
        "fig.update_yaxes(scaleanchor=\"x\",scaleratio=1)\n",
        "plt.show()"
      ],
      "metadata": {
        "id": "z-pmRo01i4Ai"
      },
      "execution_count": null,
      "outputs": []
    },
    {
      "cell_type": "markdown",
      "source": [
        "**Equation E7-5 matches with Figure E7-4.**"
      ],
      "metadata": {
        "id": "jb7tWrJQi5aT"
      }
    },
    {
      "cell_type": "code",
      "source": [
        "import numpy as np\n",
        "import plotly.express as px\n",
        "u = np.linspace(0,6*np.pi,200)\n",
        "A = 8\n",
        "B = 3\n",
        "x = (A-B) * np.cos(u) + B * np.cos((A-B)*u/B)\n",
        "y = (A-B) * np.sin(u) - B * np.sin((A-B)*u/B)\n",
        "fig = px.line(x=x,y=y)\n",
        "fig.update_traces(line_color='black',line_width=4)\n",
        "fig.update_yaxes(scaleanchor=\"x\",scaleratio=1)\n",
        "plt.show()"
      ],
      "metadata": {
        "id": "SCc42w06i6_D"
      },
      "execution_count": null,
      "outputs": []
    },
    {
      "cell_type": "markdown",
      "source": [
        "**Equation E7-6 matches with Figure E7-3**"
      ],
      "metadata": {
        "id": "qFWjPO_9i8Or"
      }
    },
    {
      "cell_type": "code",
      "source": [
        "import numpy as np\n",
        "import plotly.express as px\n",
        "u = np.linspace(0,2*np.pi,1000)\n",
        "x = 16*np.sin(u)**3\n",
        "y = 13*np.cos(u)-5*np.cos(2*u)-2*np.cos(3*u)-np.cos(4*u)\n",
        "fig = px.line(x=x,y=y)\n",
        "fig.update_traces(line_color='black',line_width=4)\n",
        "fig.update_yaxes(scaleanchor=\"x\",scaleratio=1)\n",
        "plt.show()"
      ],
      "metadata": {
        "id": "fBqD0ExPi9vs"
      },
      "execution_count": null,
      "outputs": []
    },
    {
      "cell_type": "markdown",
      "source": [
        "**E.7.3. E7.3.1. A parametric Ellipse.**\n"
      ],
      "metadata": {
        "id": "xZxUMuCri_G6"
      }
    },
    {
      "cell_type": "code",
      "source": [
        "import numpy as np\n",
        "import plotly.express as px\n",
        "u = np.linspace(0,2*np.pi,200)\n",
        "r1 = 2\n",
        "r2 = 1\n",
        "x = r1 * np.cos(u)\n",
        "y = r2 * np.sin(u)\n",
        "fig = px.line(x=x,y=y)\n",
        "fig.update_traces(line_color='black',line_width=4)\n",
        "fig.update_layout(title='ellipce',autosize=False)\n",
        "plt.show()"
      ],
      "metadata": {
        "id": "8IKq_f3qjClr"
      },
      "execution_count": null,
      "outputs": []
    },
    {
      "cell_type": "markdown",
      "source": [
        "**E7.3.2. A Parametric cycloid.**"
      ],
      "metadata": {
        "id": "bPPauwQAjEBD"
      }
    },
    {
      "cell_type": "code",
      "source": [
        "import numpy as np\n",
        "import plotly.express as px\n",
        "u = np.linspace(0,6*np.pi,200)\n",
        "r = 1\n",
        "x = r * (u - np.sin(u))\n",
        "y = r * (1 - np.cos(u))\n",
        "fig = px.line(x=x,y=y)\n",
        "fig.update_traces(line_color='black',line_width=4)\n",
        "fig.update_yaxes(scaleanchor=\"x\",scaleratio=1)\n",
        "plt.show()"
      ],
      "metadata": {
        "id": "20-MK_NyjFNj"
      },
      "execution_count": null,
      "outputs": []
    },
    {
      "cell_type": "markdown",
      "source": [
        "**E7.4.**\n",
        "**E7.4.1. The Cissoid of Diocles curve.**"
      ],
      "metadata": {
        "id": "LrP-v3YBjGjc"
      }
    },
    {
      "cell_type": "code",
      "source": [
        "import numpy as np\n",
        "import plotly.express as px\n",
        "u = np.linspace(-np.pi/10,100*np.pi,10000)\n",
        "x = 3*u / (1+u**3)\n",
        "y = 3*u**2 /(1+u**3)\n",
        "fig = px.line(x=x,y=y)\n",
        "fig.update_traces(line_color='black',line_width=4)\n",
        "fig.update_yaxes(scaleanchor=\"x\",scaleratio=1)\n",
        "plt.show()"
      ],
      "metadata": {
        "id": "PkIQbLBejIWa"
      },
      "execution_count": null,
      "outputs": []
    },
    {
      "cell_type": "markdown",
      "source": [
        "**E7.4.2. The Witch of Agnesi curve.**"
      ],
      "metadata": {
        "id": "To6dKx3djKMz"
      }
    },
    {
      "cell_type": "code",
      "source": [
        "import numpy as np\n",
        "import plotly.express as px\n",
        "u = np.linspace(-np.pi,np.pi,200)\n",
        "x = u\n",
        "y = 1 / (u**2 + 1)\n",
        "fig = px.line(x=x,y=y)\n",
        "fig.update_traces(line_color='black',line_width=4)\n",
        "fig.update_yaxes(scaleanchor=\"x\",scaleratio=1)\n",
        "plt.show()"
      ],
      "metadata": {
        "id": "MAXwyBrFjLT6"
      },
      "execution_count": null,
      "outputs": []
    },
    {
      "cell_type": "markdown",
      "source": [
        "**16.2. Solutions to exercises in Chapter 08**"
      ],
      "metadata": {
        "id": "pfpStPnhjNeS"
      }
    },
    {
      "cell_type": "markdown",
      "source": [
        "**E.8.1.**\n",
        "**Equation E8-1 matches with Figure E8-1.**"
      ],
      "metadata": {
        "id": "zh8XOHXtjPRL"
      }
    },
    {
      "cell_type": "code",
      "source": [
        "import numpy as np\n",
        "import plotly.express as px\n",
        "u = np.linspace(0,np.pi,500)\n",
        "r = 2\n",
        "x = r * np.sin(u) * np.cos(16*u)\n",
        "y = r * np.sin(u) * np.sin(16*u)\n",
        "z = r * np.cos(u)\n",
        "fig = px.line_3d(x=x,y=y,z=z)\n",
        "fig.update_traces(line_color='black',line_width=8)\n",
        "plt.show()"
      ],
      "metadata": {
        "id": "T4VdFluwjSNy"
      },
      "execution_count": null,
      "outputs": []
    },
    {
      "cell_type": "markdown",
      "source": [
        "**Equation E8-2 matches with Figure E8-4.**"
      ],
      "metadata": {
        "id": "FwytKHQZjVJD"
      }
    },
    {
      "cell_type": "code",
      "source": [
        "import numpy as np\n",
        "import plotly.express as px\n",
        "u = np.linspace(0,2*np.pi,1000)\n",
        "x = (4 + np.sin(20*u)) * np.cos(u)\n",
        "y = (4 + np.sin(20*u)) * np.sin(u)\n",
        "z = np.cos(20*u)\n",
        "fig = px.line_3d(x=x,y=y,z=z)\n",
        "fig.update_traces(line_color='black',line_width=7)\n",
        "plt.show()"
      ],
      "metadata": {
        "id": "1zIb8MINjWsc"
      },
      "execution_count": null,
      "outputs": []
    },
    {
      "cell_type": "markdown",
      "source": [
        "**Equation E8-3 matches with Figure E8-3.**"
      ],
      "metadata": {
        "id": "8v78CX3LjYAT"
      }
    },
    {
      "cell_type": "code",
      "source": [
        "import numpy as np\n",
        "import plotly.express as px\n",
        "u = np.linspace(0,2*np.pi,500)\n",
        "x = np.cos(u)**3\n",
        "y = np.sin(u)**3\n",
        "z = np.sin(2*u)\n",
        "fig = px.line_3d(x=x,y=y,z=z)\n",
        "fig.update_traces(line_color='black',line_width=7)\n",
        "plt.show()"
      ],
      "metadata": {
        "id": "SFdq_5kjjZPa"
      },
      "execution_count": null,
      "outputs": []
    },
    {
      "cell_type": "markdown",
      "source": [
        "**Equation E8-4 matches with Figure E8-2.**"
      ],
      "metadata": {
        "id": "HqfZ-Gamjay6"
      }
    },
    {
      "cell_type": "code",
      "source": [
        "import numpy as np\n",
        "import plotly.express as px\n",
        "u = np.linspace(0,2*np.pi,500)\n",
        "a = 2\n",
        "b = 2\n",
        "n = 6\n",
        "x = a * np.cos(n*u) * np.cos(u)\n",
        "y = a * np.cos(n*u) * np.sin(u)\n",
        "z = b * np.cos(n*u)\n",
        "fig = px.line_3d(x=x,y=y,z=z)\n",
        "fig.update_traces(line_color='black',line_width=5)\n",
        "plt.show()"
      ],
      "metadata": {
        "id": "vKbZJrzJjcAb"
      },
      "execution_count": null,
      "outputs": []
    },
    {
      "cell_type": "markdown",
      "source": [
        "**E.8.2.**\n",
        "**E8.2.1. The twisted cubic curve.**"
      ],
      "metadata": {
        "id": "pGtRmcJRjdri"
      }
    },
    {
      "cell_type": "code",
      "source": [
        "import numpy as np\n",
        "import plotly.express as px\n",
        "u = np.linspace(-10,10,100)\n",
        "x = u\n",
        "y = u**2\n",
        "z = u**3\n",
        "fig = px.line_3d(x=x,y=y,z=z)\n",
        "fig.update_traces(line_color='black',line_width=9)\n",
        "plt.show()"
      ],
      "metadata": {
        "id": "mhHaLL6JkFCz"
      },
      "execution_count": null,
      "outputs": []
    },
    {
      "cell_type": "markdown",
      "source": [
        "**E8.2.2. Viviansi's curve.**"
      ],
      "metadata": {
        "id": "R0_cAkD0kGjz"
      }
    },
    {
      "cell_type": "code",
      "source": [
        "import numpy as np\n",
        "import plotly.express as px\n",
        "u = np.linspace(0,2*np.pi,100)\n",
        "r = 1\n",
        "x = r * np.cos(u)**2\n",
        "y = r * np.cos(u) * np.sin(u)\n",
        "z = r *  np.sin(u)\n",
        "fig = px.line_3d(x=x,y=y,z=z)\n",
        "fig.update_traces(line_color='black',line_width=9)\n",
        "plt.show()"
      ],
      "metadata": {
        "id": "k8p5JQPNkLay"
      },
      "execution_count": null,
      "outputs": []
    },
    {
      "cell_type": "markdown",
      "source": [
        "**E8.2.3. Conchospiral curve.**"
      ],
      "metadata": {
        "id": "63fKT0ZikUHd"
      }
    },
    {
      "cell_type": "code",
      "source": [
        "import numpy as np\n",
        "import plotly.express as px\n",
        "u = np.linspace(0,12*np.pi,500)\n",
        "r = u\n",
        "x = r * np.cos(u)\n",
        "y = r * np.sin(u)\n",
        "z = u\n",
        "fig = px.line_3d(x=x,y=y,z=z)\n",
        "fig.update_traces(line_color='black',line_width=9)\n",
        "plt.show()"
      ],
      "metadata": {
        "id": "Cb9RRUoMkWky"
      },
      "execution_count": null,
      "outputs": []
    },
    {
      "cell_type": "markdown",
      "source": [
        "**16.3. Solutions to exercises in Chapter 09**"
      ],
      "metadata": {
        "id": "rkciBbLykcea"
      }
    },
    {
      "cell_type": "markdown",
      "source": [
        "**E.9.1.**\n",
        "**Equation E9-1 matches with Figure E9-6.**"
      ],
      "metadata": {
        "id": "yxA3oTqakfU7"
      }
    },
    {
      "cell_type": "code",
      "source": [
        "import numpy as np\n",
        "import matplotlib.pyplot as plt\n",
        "u = np.linspace(0,2*np.pi,80)\n",
        "v = np.linspace(0,1,10)\n",
        "U,V = np.meshgrid(u,v)\n",
        "r = V\n",
        "X = r * np.cos(U)**3\n",
        "Y = r * np.sin(U)**3\n",
        "for row in range(len(v)-1):\n",
        "  for col in range(len(u)-1):\n",
        "    plt.fill([X[row,col],X[row+1,col],X[row+1,col+1],X[row,col+1]],\n",
        "            [Y[row,col],Y[row+1,col],Y[row+1,col+1],Y[row,col+1]],\n",
        "            color='hotpink',alpha=.5)\n",
        "plt.show()"
      ],
      "metadata": {
        "id": "NBuoeEBRkh11"
      },
      "execution_count": null,
      "outputs": []
    },
    {
      "cell_type": "markdown",
      "source": [
        "**Equation E9-2 matches with Figure E9-3.**"
      ],
      "metadata": {
        "id": "gBdVFYf_kj2B"
      }
    },
    {
      "cell_type": "code",
      "source": [
        "import numpy as np\n",
        "import matplotlib.pyplot as plt\n",
        "u = np.linspace(0,2*np.pi,50)\n",
        "v = np.linspace(0,1,10)\n",
        "U,V = np.meshgrid(u,v)\n",
        "r = V\n",
        "X = r * (2*np.cos(U) + np.cos(2*U))\n",
        "Y = r * (2*np.sin(U) - np.sin(2*U))\n",
        "for row in range(len(v)-1):\n",
        "  for col in range(len(u)-1):\n",
        "    plt.fill([X[row,col],X[row+1,col],X[row+1,col+1],X[row,col+1]],\n",
        "            [Y[row,col],Y[row+1,col],Y[row+1,col+1],Y[row,col+1]],\n",
        "            color='brown',alpha=.6)\n",
        "plt.show()"
      ],
      "metadata": {
        "id": "l09B4oteklQy"
      },
      "execution_count": null,
      "outputs": []
    },
    {
      "cell_type": "markdown",
      "source": [
        "**Equation E9-3 matches with Figure E9-5.**"
      ],
      "metadata": {
        "id": "if8uzFWlkmmT"
      }
    },
    {
      "cell_type": "code",
      "source": [
        "import numpy as np\n",
        "import matplotlib.pyplot as plt\n",
        "u = np.linspace(0,2*np.pi,50)\n",
        "v = np.linspace(2,6,10)\n",
        "U,V = np.meshgrid(u,v)\n",
        "r = V\n",
        "X = U\n",
        "Y = r * np.sin(U)\n",
        "for row in range(len(v)-1):\n",
        "  for col in range(len(u)-1):\n",
        "    plt.fill([X[row,col],X[row+1,col],X[row+1,col+1],X[row,col+1]],\n",
        "            [Y[row,col],Y[row+1,col],Y[row+1,col+1],Y[row,col+1]],\n",
        "            color='yellowgreen',alpha=.6)\n",
        "plt.show()"
      ],
      "metadata": {
        "id": "Om2buRlRkn8L"
      },
      "execution_count": null,
      "outputs": []
    },
    {
      "cell_type": "markdown",
      "source": [
        "**Equation E9-4 matches with Figure E9-2.**"
      ],
      "metadata": {
        "id": "l1oFMbzMkxOa"
      }
    },
    {
      "cell_type": "code",
      "source": [
        "import numpy as np\n",
        "import matplotlib.pyplot as plt\n",
        "u = np.linspace(0,2*np.pi,50)\n",
        "v = np.linspace(0,2,10)\n",
        "U,V = np.meshgrid(u,v)\n",
        "r = V\n",
        "X = U\n",
        "Y = r + np.sin(U)\n",
        "for row in range(len(v)-1):\n",
        "  for col in range(len(u)-1):\n",
        "    plt.fill([X[row,col],X[row+1,col],X[row+1,col+1],X[row,col+1]],\n",
        "            [Y[row,col],Y[row+1,col],Y[row+1,col+1],Y[row,col+1]],\n",
        "            color='royalblue',alpha=.6)\n",
        "plt.show()"
      ],
      "metadata": {
        "id": "5UPpvvqqkyjz"
      },
      "execution_count": null,
      "outputs": []
    },
    {
      "cell_type": "markdown",
      "source": [
        "**Equation E9-5 matches with Figure E9-4.**"
      ],
      "metadata": {
        "id": "TxuhR453k015"
      }
    },
    {
      "cell_type": "code",
      "source": [
        "import numpy as np\n",
        "import matplotlib.pyplot as plt\n",
        "u = np.linspace(0,2*np.pi,50)\n",
        "v = np.linspace(0,1,10)\n",
        "U,V = np.meshgrid(u,v)\n",
        "r = V\n",
        "X = r * (2*np.cos(U) - np.cos(2*U))\n",
        "Y = r * (2*np.sin(U) - np.sin(2*U))\n",
        "for row in range(len(v)-1):\n",
        "  for col in range(len(u)-1):\n",
        "    plt.fill([X[row,col],X[row+1,col],X[row+1,col+1],X[row,col+1]],\n",
        "            [Y[row,col],Y[row+1,col],Y[row+1,col+1],Y[row,col+1]],\n",
        "            color='tomato',alpha=.6)\n",
        "plt.show()"
      ],
      "metadata": {
        "id": "hq2FuMphk1eS"
      },
      "execution_count": null,
      "outputs": []
    },
    {
      "cell_type": "markdown",
      "source": [
        "**Equation E9-6 matches with Figure E9-1.**"
      ],
      "metadata": {
        "id": "6x3Y-Lx9k20D"
      }
    },
    {
      "cell_type": "code",
      "source": [
        "import numpy as np\n",
        "import matplotlib.pyplot as plt\n",
        "u = np.linspace(0,2*np.pi,150)\n",
        "v = np.linspace(1.5,6,10)\n",
        "U,V = np.meshgrid(u,v)\n",
        "r = V + np.cos(4*np.sin(3*U))\n",
        "X = r * np.sin(U)\n",
        "Y = r * np.cos(U)\n",
        "for row in range(len(v)-1):\n",
        "  for col in range(len(u)-1):\n",
        "    plt.fill([X[row,col],X[row+1,col],X[row+1,col+1],X[row,col+1]],\n",
        "            [Y[row,col],Y[row+1,col],Y[row+1,col+1],Y[row,col+1]],\n",
        "            color='darkkhaki',alpha=.6)\n",
        "plt.show()"
      ],
      "metadata": {
        "id": "JxQ5C08nk4HC"
      },
      "execution_count": null,
      "outputs": []
    },
    {
      "cell_type": "markdown",
      "source": [
        "**16.4. Solutions to exercises in Chapter 10**"
      ],
      "metadata": {
        "id": "AJQwRdZzk6Sk"
      }
    },
    {
      "cell_type": "markdown",
      "source": [
        "**E.10.1.**\n",
        "**Equation E10-1 matches with Figure E10-4.**"
      ],
      "metadata": {
        "id": "UQ9fF9xNk7fx"
      }
    },
    {
      "cell_type": "code",
      "source": [
        "import numpy as np\n",
        "import plotly.graph_objects as go\n",
        "u   = np.linspace(-5,5,50)\n",
        "v   = np.linspace(-5,5,50)\n",
        "U,V = np.meshgrid(u,v)\n",
        "X   = U\n",
        "Y   = V\n",
        "Z   = X**2-Y**2\n",
        "fig = go.Figure(go.Surface(x=X, y=Y, z=Z,opacity=1,colorscale = 'blues',showscale=False,\n",
        "         contours=dict(x=dict(show=True),y=dict(show=True),z=dict(show=False))))\n",
        "fig.update_layout(title='Hyperbolic paraboloid',autosize=False)\n",
        "plt.show()"
      ],
      "metadata": {
        "id": "fKbfTt0zk9Wy"
      },
      "execution_count": null,
      "outputs": []
    },
    {
      "cell_type": "markdown",
      "source": [
        "**Equation E10-2 matches with Figure E10-2.**"
      ],
      "metadata": {
        "id": "hz7uyTWFk-uj"
      }
    },
    {
      "cell_type": "code",
      "source": [
        "import numpy as np\n",
        "import plotly.graph_objects as go\n",
        "u   = np.linspace(-5,5,50)\n",
        "v   = np.linspace(-5,5,50)\n",
        "U,V = np.meshgrid(u,v)\n",
        "X   = U\n",
        "Y   = V\n",
        "Z   = -(X**2-Y**2)**2\n",
        "fig = go.Figure(go.Surface(x=X, y=Y, z=Z,opacity=1,colorscale = 'picnic',showscale=False,\n",
        "        contours=dict(x=dict(show=True),y=dict(show=True),z=dict(show=False))))\n",
        "fig.update_layout(title='Roof',autosize=False)\n",
        "plt.show()"
      ],
      "metadata": {
        "id": "JRTTywEFlATr"
      },
      "execution_count": null,
      "outputs": []
    },
    {
      "cell_type": "markdown",
      "source": [
        "**Equation E10-3 matches with Figure E10-3.**"
      ],
      "metadata": {
        "id": "OgWRIG73lCFL"
      }
    },
    {
      "cell_type": "code",
      "source": [
        "import numpy as np\n",
        "import plotly.graph_objects as go\n",
        "u   = np.linspace(-3,3,50)\n",
        "v   = np.linspace(-3,3,50)\n",
        "U,V = np.meshgrid(u,v)\n",
        "X   = U\n",
        "Y   = V\n",
        "Z   = np.sin(X*Y)\n",
        "fig = go.Figure(go.Surface(x=X, y=Y, z=Z,opacity=1,colorscale = 'burg',showscale=False,\n",
        "        contours=dict(x=dict(show=True),y=dict(show=True),z=dict(show=False))))\n",
        "fig.update_layout(title='Flower',autosize=False)\n",
        "plt.show()"
      ],
      "metadata": {
        "id": "DRvt7J9blDPT"
      },
      "execution_count": null,
      "outputs": []
    },
    {
      "cell_type": "markdown",
      "source": [
        "**Equation E10-4 matches with Figure E10-1.**"
      ],
      "metadata": {
        "id": "haBAfjqclEcC"
      }
    },
    {
      "cell_type": "code",
      "source": [
        "import numpy as np\n",
        "import plotly.graph_objects as go\n",
        "u = np.linspace(np.pi,6*np.pi,50)\n",
        "v = np.linspace(np.pi,6*np.pi,50)\n",
        "U,V = np.meshgrid(u,v)\n",
        "X = U\n",
        "Y = V\n",
        "Z = X * np.sin(2*X) * np.sin(Y)\n",
        "fig = go.Figure(go.Surface(x=X,y=Y,z=Z,opacity=1,colorscale ='blues',showscale=False,\n",
        "         contours=dict(x=dict(show=True),y=dict(show=True),z=dict(show=False))))\n",
        "fig.update_layout(scene = dict(aspectratio =dict(x=1, y=1, z=.3)))\n",
        "plt.show()"
      ],
      "metadata": {
        "id": "8O2_ws5zlFxj"
      },
      "execution_count": null,
      "outputs": []
    },
    {
      "cell_type": "markdown",
      "source": [
        "**E.10.2.**\n",
        "**Equation E10-5 matches with Figure E10-6.**"
      ],
      "metadata": {
        "id": "7AkPGXgDlKwa"
      }
    },
    {
      "cell_type": "code",
      "source": [
        "import numpy as np\n",
        "import plotly.graph_objects as go\n",
        "u = np.linspace(0,2*np.pi,50)\n",
        "v = np.linspace(-2*np.pi,2*np.pi,50)\n",
        "U,V = np.meshgrid(u,v)\n",
        "X = np.cos(U)\n",
        "Y = np.sin(V)\n",
        "Z = np.sin(np.abs(U) + np.abs(V))\n",
        "fig = go.Figure(go.Surface(x=X,y=Y,z=Z,opacity=1,colorscale ='hsv',showscale=False,\n",
        "         contours=dict(x=dict(show=True),y=dict(show=True),z=dict(show=False))))\n",
        "fig.update_layout(title='star-shaped box',autosize=False)\n",
        "plt.show()"
      ],
      "metadata": {
        "id": "XxlYT_d1lPm7"
      },
      "execution_count": null,
      "outputs": []
    },
    {
      "cell_type": "markdown",
      "source": [
        "**Equation E10-6 matches with Figure E10-7.**"
      ],
      "metadata": {
        "id": "S-TozAeBlQ6s"
      }
    },
    {
      "cell_type": "code",
      "source": [
        "import numpy as np\n",
        "import plotly.graph_objects as go\n",
        "u = np.linspace(0,2*np.pi,50)\n",
        "v = np.linspace(0,np.pi,50)\n",
        "U, V = np.meshgrid(u,v)\n",
        "r = 1 + (1/5)*np.sin(5*U)*np.sin(4*V)\n",
        "X = r * np.sin(V) * np.cos(U)\n",
        "Y = r * np.sin(V) * np.sin(U)\n",
        "Z = r * np.cos(V)\n",
        "fig = go.Figure(go.Surface(x=X,y=Y,z=Z,opacity=1,colorscale ='earth',showscale=False,\n",
        "           contours=dict(x=dict(show=True),y=dict(show=True),z=dict(show=False))))\n",
        "fig.update_layout(title='Orbit',autosize=False)\n",
        "plt.show()"
      ],
      "metadata": {
        "id": "_cWDlcxplSOb"
      },
      "execution_count": null,
      "outputs": []
    },
    {
      "cell_type": "markdown",
      "source": [
        "**Equation E10-7 matches with Figure E10-8.**"
      ],
      "metadata": {
        "id": "WSlnKk4FlTpq"
      }
    },
    {
      "cell_type": "code",
      "source": [
        "import numpy as np\n",
        "import plotly.graph_objects as go\n",
        "u = np.linspace(0,4*np.pi,100)\n",
        "v = np.linspace(0,2*np.pi,50)\n",
        "U, V = np.meshgrid(u,v)\n",
        "X = (2 + np.sin(V)) * np.cos(U)\n",
        "Y = (2 + np.sin(V)) * np.sin(U)\n",
        "Z =  U + np.cos(V)\n",
        "fig = go.Figure(go.Surface(x=X,y=Y,z=Z,opacity=1,colorscale ='rainbow',showscale=False,\n",
        "         contours=dict(x=dict(show=True),y=dict(show=True),z=dict(show=False))))\n",
        "fig.update_layout(title='helicoid',autosize=False)\n",
        "plt.show()"
      ],
      "metadata": {
        "id": "Jj5B11PGlU3r"
      },
      "execution_count": null,
      "outputs": []
    },
    {
      "cell_type": "markdown",
      "source": [
        "**Equation E10-8 matches with Figure E10-5.**"
      ],
      "metadata": {
        "id": "sxzRo1f2lV76"
      }
    },
    {
      "cell_type": "code",
      "source": [
        "import numpy as np\n",
        "import plotly.graph_objects as go\n",
        "u = np.linspace(np.pi/3,11*np.pi/15,100)\n",
        "v = np.linspace(0,2*np.pi,50)\n",
        "U, V = np.meshgrid(u,v)\n",
        "X = (1-U)**2 * (2+np.cos(V)) * np.cos(8*np.pi*U)\n",
        "Y = (1-U)**2 * (2+np.cos(V)) * np.sin(8*np.pi*U)\n",
        "Z = 2*U**2 + (1-U)*np.sin(V)\n",
        "fig = go.Figure(go.Surface(x=X,y=Y,z=Z,opacity=1,colorscale ='spectral',showscale=False,\n",
        "           contours=dict(x=dict(show=True),y=dict(show=True),z=dict(show=False))))\n",
        "fig.update_layout(title='Seashell',autosize=False)\n",
        "plt.show()"
      ],
      "metadata": {
        "id": "WL7GB1UZlYNK"
      },
      "execution_count": null,
      "outputs": []
    },
    {
      "cell_type": "markdown",
      "source": [
        "**Equation E10-9 matches with Figure E10-9.**"
      ],
      "metadata": {
        "id": "JuAjJAz-lZnz"
      }
    },
    {
      "cell_type": "code",
      "source": [
        "import numpy as np\n",
        "import plotly.graph_objects as go\n",
        "u = np.linspace(0,2*np.pi,80)\n",
        "v = np.linspace(0,np.pi,50)\n",
        "U, V = np.meshgrid(u,v)\n",
        "r = 2 + np.sin(5*u)\n",
        "X = r * np.cos(U) * np.sin(V)\n",
        "Y = V\n",
        "Z = r * np.sin(U) * np.sin(V)\n",
        "fig = go.Figure(go.Surface(x=X,y=Y,z=Z,opacity=1,colorscale ='ylorrd',showscale=False,\n",
        "         contours=dict(x=dict(show=True),y=dict(show=True),z=dict(show=True))))\n",
        "fig.update_layout(title='3d star',autosize=False)\n",
        "plt.show()"
      ],
      "metadata": {
        "id": "zq1DCVWVla9j"
      },
      "execution_count": null,
      "outputs": []
    },
    {
      "cell_type": "markdown",
      "source": [
        "**Equation E10-10 matches with Figure E10-10.**"
      ],
      "metadata": {
        "id": "bdl3sP1QljLl"
      }
    },
    {
      "cell_type": "code",
      "source": [
        "import numpy as np\n",
        "import plotly.graph_objects as go\n",
        "u = np.linspace(0,.3183*np.pi,150)\n",
        "v = np.linspace(0,.3183*np.pi,50)\n",
        "U, V = np.meshgrid(u,v)\n",
        "Ro = 4\n",
        "R1 = 1\n",
        "amp  = 0.2\n",
        "Freq = 6\n",
        "Turns= 1\n",
        "theta= U * 2 * np.pi\n",
        "phi  = V * 2 * np.pi\n",
        "r = R1 + amp * np.sin(Freq*phi)\n",
        "ang = phi + 2* np.pi *np.sin(Turns + theta)\n",
        "tx = r * np.cos(ang) + Ro\n",
        "X = tx * np.cos(theta)\n",
        "Y = tx * np.sin(theta)\n",
        "Z = r * np.sin(ang)\n",
        "fig = go.Figure(go.Surface(x=X,y=Y,z=Z,opacity=1,colorscale ='ylorrd',showscale=False,\n",
        "         contours=dict(x=dict(show=True),y=dict(show=True),z=dict(show=False))))\n",
        "fig.update_layout(scene = dict(aspectratio = dict(x=1, y=1, z=.3)))\n",
        "plt.show()"
      ],
      "metadata": {
        "id": "3u3baW-Iljvq"
      },
      "execution_count": null,
      "outputs": []
    },
    {
      "cell_type": "markdown",
      "source": [
        "**16.5. Solutions to exercises in Chapter 11**"
      ],
      "metadata": {
        "id": "X1Z5bMP-llnq"
      }
    },
    {
      "cell_type": "markdown",
      "source": [
        "**E.11.1.**\n",
        "**Equation E11-1 matches with Figure E11-3**"
      ],
      "metadata": {
        "id": "x-kJLPL-lnlj"
      }
    },
    {
      "cell_type": "code",
      "source": [
        "import numpy as np\n",
        "import plotly.graph_objects as go\n",
        "u = np.linspace(0,8*np.pi,1000)\n",
        "v = np.linspace(0,1,10)\n",
        "U,V = np.meshgrid(u,v)\n",
        "X = U + np.sin(U)\n",
        "Y = 1 - np.cos(U)\n",
        "Z = V\n",
        "fig = go.Figure(go.Surface(x=X,y=Y,z=Z,opacity=1,colorscale ='algae',showscale=False,\n",
        "             contours=dict(x=dict(show=True),y=dict(show=True),z=dict(show=True))))\n",
        "fig.update_layout(scene = dict(aspectratio = dict(x=2, y=1, z=.5)))\n",
        "plt.show()"
      ],
      "metadata": {
        "id": "CbmptdW1lpur"
      },
      "execution_count": null,
      "outputs": []
    },
    {
      "cell_type": "markdown",
      "source": [
        "**Equation E11-2 matches with Figure E11-1**"
      ],
      "metadata": {
        "id": "195fWJtElrGm"
      }
    },
    {
      "cell_type": "code",
      "source": [
        "import numpy as np\n",
        "import plotly.graph_objects as go\n",
        "u = np.linspace(0,8*np.pi,1000)\n",
        "v = np.linspace(0,1,10)\n",
        "U,V = np.meshgrid(u,v)\n",
        "r = 1\n",
        "b = 2\n",
        "X = r*U + b*np.sin(U)\n",
        "Y = V + np.cos(U)\n",
        "Z = r - b*np.cos(U)\n",
        "fig = go.Figure(go.Surface(x=X,y=Y,z=Z,opacity=1,colorscale ='curl',showscale=False,\n",
        "              contours=dict(x=dict(show=True),y=dict(show=True),z=dict(show=True))))\n",
        "fig.update_layout(scene = dict(aspectratio = dict(x=2, y=.5, z=.5)))\n",
        "plt.show()"
      ],
      "metadata": {
        "id": "597jZDPnlsJj"
      },
      "execution_count": null,
      "outputs": []
    },
    {
      "cell_type": "markdown",
      "source": [
        "**Equation E11-3 matches with Figure E11-4**"
      ],
      "metadata": {
        "id": "j9vieHYVltlT"
      }
    },
    {
      "cell_type": "code",
      "source": [
        "import numpy as np\n",
        "import plotly.graph_objects as go\n",
        "u = np.linspace(0,2*np.pi,1000)\n",
        "v = np.linspace(0,1,10)\n",
        "U,V = np.meshgrid(u,v)\n",
        "r = 1\n",
        "X = V\n",
        "Y = r * np.cos(U)**3\n",
        "Z = r * np.sin(U)**3\n",
        "fig = go.Figure(go.Surface(x=X,y=Y,z=Z,opacity=1,colorscale ='curl',showscale=False,\n",
        "        contours=dict(x=dict(show=True),y=dict(show=True),z=dict(show=True))))\n",
        "fig.update_layout(title='Hypocycloid of four cusps or astroid',autosize=False)\n",
        "plt.show()"
      ],
      "metadata": {
        "id": "a7HOzYqJlu-L"
      },
      "execution_count": null,
      "outputs": []
    },
    {
      "cell_type": "markdown",
      "source": [
        "**Equation E11-4 matches with Figure E11-2**"
      ],
      "metadata": {
        "id": "5L83Pq-NlwPq"
      }
    },
    {
      "cell_type": "code",
      "source": [
        "import numpy as np\n",
        "import plotly.graph_objects as go\n",
        "u = np.linspace(0,8*np.pi,1000)\n",
        "v = np.linspace(0,1,10)\n",
        "U,V = np.meshgrid(u,v)\n",
        "r = 1\n",
        "b = 2\n",
        "X = r*U + b*np.sin(U)\n",
        "Y = V\n",
        "Z = r - b*np.cos(U)\n",
        "fig = go.Figure(go.Surface(x=X,y=Y,z=Z,opacity=1,colorscale ='curl',showscale=False,\n",
        "        contours=dict(x=dict(show=True),y=dict(show=True),z=dict(show=True))))\n",
        "fig.update_layout(scene = dict(aspectratio = dict(x=2, y=.5, z=.5)))\n",
        "plt.show()"
      ],
      "metadata": {
        "id": "Fga3FvtHlxY6"
      },
      "execution_count": null,
      "outputs": []
    },
    {
      "cell_type": "markdown",
      "source": [
        "**E.11.2.**\n",
        "**Equation E11-5 matches with Figure E11-8**"
      ],
      "metadata": {
        "id": "e6gXcNihl6nr"
      }
    },
    {
      "cell_type": "code",
      "source": [
        "import numpy as np\n",
        "import plotly.graph_objects as go\n",
        "u = np.linspace(0,2*np.pi,1000)\n",
        "v = np.linspace(0,1,10)\n",
        "U,V = np.meshgrid(u,v)\n",
        "r = np.cos(2*U)\n",
        "X = r * np.cos(U)\n",
        "Y = r * np.sin(U)\n",
        "Z = V**2 + np.sin(U)\n",
        "fig = go.Figure(go.Surface(x=X,y=Y,z=Z,opacity=1,colorscale ='magma',showscale=False,\n",
        "            contours=dict(x=dict(show=True),y=dict(show=True),z=dict(show=True))))\n",
        "fig.update_layout(title='Polar-shape band',autosize=False)\n",
        "plt.show()"
      ],
      "metadata": {
        "id": "08sfg7lQl_YU"
      },
      "execution_count": null,
      "outputs": []
    },
    {
      "cell_type": "markdown",
      "source": [
        "**Equation E11-6 matches with Figure E11-10**"
      ],
      "metadata": {
        "id": "WdW9VfkbmBdT"
      }
    },
    {
      "cell_type": "code",
      "source": [
        "import numpy as np\n",
        "import plotly.graph_objects as go\n",
        "u = np.linspace(0,4*np.pi,1000)\n",
        "v = np.linspace(0,1,10)\n",
        "U,V = np.meshgrid(u,v)\n",
        "r = np.sin(3.5*U)**2 + np.cos(3.5*U)**4\n",
        "X = r * np.cos(U)\n",
        "Y = V**2 + np.sin(U)\n",
        "Z = r * np.sin(U)\n",
        "fig = go.Figure(go.Surface(x=X,y=Y,z=Z,opacity=1,colorscale ='earth',showscale=False,\n",
        "         contours=dict(x=dict(show=True),y=dict(show=True),z=dict(show=True))))\n",
        "fig.update_layout(title='Polar-shape band',autosize=False)\n",
        "plt.show()"
      ],
      "metadata": {
        "id": "WJ-SnXOImCLr"
      },
      "execution_count": null,
      "outputs": []
    },
    {
      "cell_type": "markdown",
      "source": [
        "**Equation E11-7 matches with Figure E11-6**"
      ],
      "metadata": {
        "id": "lobQGzQ0mD_c"
      }
    },
    {
      "cell_type": "code",
      "source": [
        "import numpy as np\n",
        "import plotly.graph_objects as go\n",
        "u = np.linspace(0,2*np.pi,1000)\n",
        "v = np.linspace(-1,1,10)\n",
        "U,V = np.meshgrid(u,v)\n",
        "r = np.cos(2*U)\n",
        "X = V + (np.cos(U) * np.sin(U))\n",
        "Y = r * np.cos(U)\n",
        "Z = r * np.sin(U)\n",
        "fig = go.Figure(go.Surface(x=X,y=Y,z=Z,opacity=1,colorscale ='bluered',showscale=False,\n",
        "             contours=dict(x=dict(show=True),y=dict(show=True),z=dict(show=True))))\n",
        "fig.update_layout(title='Polar-shape band',autosize=False)\n",
        "plt.show()"
      ],
      "metadata": {
        "id": "Xp0Bspi5mFJs"
      },
      "execution_count": null,
      "outputs": []
    },
    {
      "cell_type": "markdown",
      "source": [
        "**Equation E11-8 matches with Figure E11-5**"
      ],
      "metadata": {
        "id": "mwSJWu_JmEma"
      }
    },
    {
      "cell_type": "code",
      "source": [
        "import numpy as np\n",
        "import plotly.graph_objects as go\n",
        "u = np.linspace(0,np.pi,1000)\n",
        "v = np.linspace(-.25,.25,10)\n",
        "U,V = np.meshgrid(u,v)\n",
        "r = 2\n",
        "X = r * np.sin(U) * np.cos(16*U) + V\n",
        "Y = r * np.sin(U) * np.sin(16*U) + V\n",
        "Z = r * np.cos(U)\n",
        "fig = go.Figure(go.Surface(x=X,y=Y,z=Z,opacity=1,colorscale ='rainbow',showscale=False,\n",
        "             contours=dict(x=dict(show=True),y=dict(show=True),z=dict(show=True))))\n",
        "fig.update_layout(title='Sphere coil band',autosize=False)\n",
        "plt.show()"
      ],
      "metadata": {
        "id": "icT7ZYSBmH3T"
      },
      "execution_count": null,
      "outputs": []
    },
    {
      "cell_type": "markdown",
      "source": [
        "**Equation E11-9 matches with Figure E11-7**"
      ],
      "metadata": {
        "id": "XE4naX7QmJJj"
      }
    },
    {
      "cell_type": "code",
      "source": [
        "import numpy as np\n",
        "import plotly.graph_objects as go\n",
        "u = np.linspace(0,2*np.pi,1000)\n",
        "v = np.linspace(-.5,.5,10)\n",
        "U,V = np.meshgrid(u,v)\n",
        "a = 2\n",
        "b = 2\n",
        "n = 6\n",
        "X = a * np.cos(n*U) * np.cos(U)\n",
        "Y = b * np.cos(n*U) + V\n",
        "Z = a * np.cos(n*U) * np.sin(U)\n",
        "fig = go.Figure(go.Surface(x=X,y=Y,z=Z,opacity=1,colorscale ='deep',showscale=False,\n",
        "         contours=dict(x=dict(show=True),y=dict(show=True),z=dict(show=True))))\n",
        "fig.update_layout(title='Conic flower band',autosize=False)\n",
        "plt.show()"
      ],
      "metadata": {
        "id": "2ZuvdPB7mKOq"
      },
      "execution_count": null,
      "outputs": []
    },
    {
      "cell_type": "markdown",
      "source": [
        "**Equation E11-10 matches with Figure E11-9**"
      ],
      "metadata": {
        "id": "LLkwPp7GmMPE"
      }
    },
    {
      "cell_type": "code",
      "source": [
        "import numpy as np\n",
        "import plotly.graph_objects as go\n",
        "u = np.linspace(0,2*np.pi,1000)\n",
        "v = np.linspace(0,1,10)\n",
        "U,V = np.meshgrid(u,v)\n",
        "r = 1\n",
        "b = 5\n",
        "X = b * np.sin(U) - r*np.sin(U)\n",
        "Y = V * np.cos(U)**2\n",
        "Z = b * np.cos(U) - r*np.cos(5*U)\n",
        "fig = go.Figure(go.Surface(x=X,y=Y,z=Z,opacity=1,colorscale ='redor',showscale=False,\n",
        "         contours=dict(x=dict(show=True),y=dict(show=True),z=dict(show=True))))\n",
        "fig.update_layout(title='Epicycloid band',autosize=False)\n",
        "plt.show()"
      ],
      "metadata": {
        "id": "luvoTvf2mNAS"
      },
      "execution_count": null,
      "outputs": []
    },
    {
      "cell_type": "markdown",
      "source": [
        "**16.6. Solutions to exercises in Chapter 12**"
      ],
      "metadata": {
        "id": "5_CcEtwXmOTD"
      }
    },
    {
      "cell_type": "markdown",
      "source": [
        "**E.12.1.**\n",
        "**Equation E12-1 matches with Figure E12-3**"
      ],
      "metadata": {
        "id": "i9nlyj4RmTEi"
      }
    },
    {
      "cell_type": "code",
      "source": [
        "import numpy as np\n",
        "import plotly.graph_objects as go\n",
        "u = np.linspace(1,5,50)\n",
        "v = np.linspace(0,2*np.pi,50)\n",
        "U, V = np.meshgrid(u,v)\n",
        "r = 1\n",
        "X = U\n",
        "Y = r * np.cos(V)\n",
        "Z = r * np.sin(V)\n",
        "fig = go.Figure(go.Surface(x=X,y=Y,z=Z,opacity=1,colorscale ='ylgnbu',showscale=False,\n",
        "         contours=dict(x=dict(show=True),y=dict(show=True),z=dict(show=True))))\n",
        "fig.update_layout(title='Cylinder profile',autosize=False)\n",
        "plt.show()"
      ],
      "metadata": {
        "id": "pA0N0JyOmQYJ"
      },
      "execution_count": null,
      "outputs": []
    },
    {
      "cell_type": "markdown",
      "source": [
        "**Equation E12-2 matches with Figure E12-6**"
      ],
      "metadata": {
        "id": "ZW5dAaDJmWVj"
      }
    },
    {
      "cell_type": "code",
      "source": [
        "import numpy as np\n",
        "import plotly.graph_objects as go\n",
        "u = np.linspace(-1,1,50)\n",
        "v = np.linspace(0,2*np.pi,50)\n",
        "U, V = np.meshgrid(u,v)\n",
        "r = U\n",
        "X = U\n",
        "Y = r * np.cos(V)\n",
        "Z = r * np.sin(V)\n",
        "fig = go.Figure(go.Surface(x=X,y=Y,z=Z,opacity=1,colorscale ='brbg',showscale=False,\n",
        "         contours=dict(x=dict(show=True),y=dict(show=True),z=dict(show=True))))\n",
        "fig.update_layout(title='Cone profile',autosize=False)\n",
        "plt.show()"
      ],
      "metadata": {
        "id": "BrxQqop0mXoc"
      },
      "execution_count": null,
      "outputs": []
    },
    {
      "cell_type": "markdown",
      "source": [
        "**Equation E12-3 matches with Figure E12-2**"
      ],
      "metadata": {
        "id": "5f-D0QRtmYwR"
      }
    },
    {
      "cell_type": "code",
      "source": [
        "import numpy as np\n",
        "import plotly.graph_objects as go\n",
        "u = np.linspace(0.2,5,50)\n",
        "v = np.linspace(0,2*np.pi,50)\n",
        "U, V = np.meshgrid(u,v)\n",
        "r = (U**2+1) / (2*U)\n",
        "X = r * np.cos(V)\n",
        "Y = r * np.sin(V)\n",
        "Z = U\n",
        "fig = go.Figure(go.Surface(x=X,y=Y,z=Z,opacity=1,colorscale ='thermal',showscale=False,\n",
        "         contours=dict(x=dict(show=True),y=dict(show=True),z=dict(show=True))))\n",
        "fig.update_layout(title='Polynomial curve profile',autosize=False)\n",
        "plt.show()"
      ],
      "metadata": {
        "id": "TQc7AUX7mZ_a"
      },
      "execution_count": null,
      "outputs": []
    },
    {
      "cell_type": "markdown",
      "source": [
        "**Equation E12-4 matches with Figure E12-5**"
      ],
      "metadata": {
        "id": "U6QlfriDmbNc"
      }
    },
    {
      "cell_type": "code",
      "source": [
        "import numpy as np\n",
        "import plotly.graph_objects as go\n",
        "u = np.linspace(0,4,50)\n",
        "v = np.linspace(-3*np.pi/2,0,50)\n",
        "U, V = np.meshgrid(u,v)\n",
        "r = np.sin(U)*np.exp(-U) + 0.1\n",
        "X = r * np.sin(V)\n",
        "Y = r * np.cos(V)\n",
        "Z = U\n",
        "fig = go.Figure(go.Surface(x=X,y=Y,z=Z,opacity=1,colorscale ='brwnyl',showscale=False,\n",
        "         contours=dict(x=dict(show=True),y=dict(show=True),z=dict(show=True))))\n",
        "fig.update_layout(title='Polynomial curve profile',autosize=False)\n",
        "plt.show()"
      ],
      "metadata": {
        "id": "CFo8jy0-mcN8"
      },
      "execution_count": null,
      "outputs": []
    },
    {
      "cell_type": "markdown",
      "source": [
        "**Equation E12-5 matches with Figure E12-1**"
      ],
      "metadata": {
        "id": "GF3AVpgJmeZQ"
      }
    },
    {
      "cell_type": "code",
      "source": [
        "import numpy as np\n",
        "import plotly.graph_objects as go\n",
        "u = np.linspace(0,2*np.pi,50)\n",
        "v = np.linspace(0,np.pi,50)\n",
        "U,V = np.meshgrid(u,v)\n",
        "a = 4\n",
        "r = a*np.sin(U) + (a/2) * np.sin(2*U)\n",
        "X = r * np.cos(V)\n",
        "Y = r * np.sin(V)\n",
        "Z = -np.cos(U)\n",
        "fig = go.Figure(go.Surface(x=X,y=Y,z=Z,opacity=1,colorscale ='blues',showscale=False,\n",
        "         contours=dict(x=dict(show=True),y=dict(show=True),z=dict(show=True))))\n",
        "plt.show()"
      ],
      "metadata": {
        "id": "rjJfuXmqmfBT"
      },
      "execution_count": null,
      "outputs": []
    },
    {
      "cell_type": "markdown",
      "source": [
        "**Equation E12-6 matches with Figure E12-4**"
      ],
      "metadata": {
        "id": "6VX1m2Dmmgi2"
      }
    },
    {
      "cell_type": "code",
      "source": [
        "import numpy as np\n",
        "import plotly.graph_objects as go\n",
        "u = np.linspace(1,5,50)\n",
        "v = np.linspace(-3*np.pi/2,0,50)\n",
        "U, V = np.meshgrid(u,v)\n",
        "r = np.log10(U)*np.sin(U**2)+1\n",
        "X = U\n",
        "Y = r * np.cos(V)\n",
        "Z = r * np.sin(V)\n",
        "fig = go.Figure(go.Surface(x=X,y=Y,z=Z,opacity=1,colorscale ='amp',showscale=False,\n",
        "         contours=dict(x=dict(show=True),y=dict(show=True),z=dict(show=True))))\n",
        "fig.update_layout(title='Sinusoidal profile',autosize=False)\n",
        "plt.show()"
      ],
      "metadata": {
        "id": "wyEL7-hYmhP0"
      },
      "execution_count": null,
      "outputs": []
    },
    {
      "cell_type": "markdown",
      "source": [
        "**E.12.2.**\n",
        "**Equation E12-7 matches with Figure E12-10**"
      ],
      "metadata": {
        "id": "LylxKnOGmpoU"
      }
    },
    {
      "cell_type": "code",
      "source": [
        "import numpy as np\n",
        "import plotly.graph_objects as go\n",
        "u = np.linspace(0,2*np.pi,50)\n",
        "v = np.linspace(0,2*np.pi,50)\n",
        "U, V = np.meshgrid(u,v)\n",
        "R = 2\n",
        "r = 1\n",
        "X = (R + r*np.cos(U)) * np.cos(V)\n",
        "Y = (R + r*np.cos(U)) * np.sin(V)\n",
        "Z = r * np.sin(U)\n",
        "fig = go.Figure(go.Surface(x=X,y=Y,z=Z,opacity=1,colorscale ='reds',showscale=False,\n",
        "         contours=dict(x=dict(show=True),y=dict(show=True),z=dict(show=True))))\n",
        "fig.update_layout(title='Torus',autosize=False)\n",
        "plt.show()"
      ],
      "metadata": {
        "id": "ftMvOmAxmrf8"
      },
      "execution_count": null,
      "outputs": []
    },
    {
      "cell_type": "markdown",
      "source": [
        "**Equation E12-8 matches with Figure E12-8**"
      ],
      "metadata": {
        "id": "4O7UxKkXmtNO"
      }
    },
    {
      "cell_type": "code",
      "source": [
        "import numpy as np\n",
        "import plotly.graph_objects as go\n",
        "u = np.linspace(0,2*np.pi,100)\n",
        "v = np.linspace(-3*np.pi/2,0,20)\n",
        "U, V = np.meshgrid(u,v)\n",
        "R = 1.5\n",
        "r = 1\n",
        "X = (R+(r * np.cos(U)**3)) * np.cos(V)\n",
        "Y = (R+(r * np.cos(U)**3)) * np.sin(V)\n",
        "Z = r * np.sin(U)**3\n",
        "fig = go.Figure(go.Surface(x=X,y=Y,z=Z,opacity=1,colorscale ='aggrnyl',showscale=False,\n",
        "         contours=dict(x=dict(show=True),y=dict(show=True),z=dict(show=True))))\n",
        "fig.update_layout(title='Ring with star-shape cross section',autosize=False)\n",
        "plt.show()"
      ],
      "metadata": {
        "id": "30n65cLFmtvr"
      },
      "execution_count": null,
      "outputs": []
    },
    {
      "cell_type": "markdown",
      "source": [
        "**Equation E12-9 matches with Figure E12-7**"
      ],
      "metadata": {
        "id": "HcAzA3T9mvCD"
      }
    },
    {
      "cell_type": "code",
      "source": [
        "import numpy as np\n",
        "import plotly.graph_objects as go\n",
        "u = np.linspace(0,2*np.pi,100)\n",
        "v = np.linspace(-3*np.pi/2,0,20)\n",
        "U, V = np.meshgrid(u,v)\n",
        "R = 1.3\n",
        "r = np.sin(3*U)\n",
        "X = (R+(r * np.cos(U))) * np.cos(V)\n",
        "Y = (R+(r * np.cos(U))) * np.sin(V)\n",
        "Z = r * np.sin(U)\n",
        "fig = go.Figure(go.Surface(x=X,y=Y,z=Z,opacity=1,colorscale ='jet',showscale=False,\n",
        "         contours=dict(x=dict(show=True),y=dict(show=True),z=dict(show=True))))\n",
        "fig.update_layout(title='Ring with star-shape cross section',autosize=False)\n",
        "plt.show()"
      ],
      "metadata": {
        "id": "ZQGO7NajmwFq"
      },
      "execution_count": null,
      "outputs": []
    },
    {
      "cell_type": "markdown",
      "source": [
        "**Equation E12-10 matches with Figure E12-9**"
      ],
      "metadata": {
        "id": "vw0LVPj1mxgB"
      }
    },
    {
      "cell_type": "code",
      "source": [
        "import numpy as np\n",
        "import plotly.graph_objects as go\n",
        "u = np.linspace(0,2*np.pi,100)\n",
        "v = np.linspace(-3*np.pi/2,0,20)\n",
        "U, V = np.meshgrid(u,v)\n",
        "R = 8\n",
        "r = np.cos(5*U) + 4\n",
        "X = (R+(r * np.cos(U)**3)) * np.cos(V)\n",
        "Y = (R+(r * np.cos(U)**3)) * np.sin(V)\n",
        "Z = r * np.sin(U)**3\n",
        "fig = go.Figure(go.Surface(x=X,y=Y,z=Z,opacity=1,colorscale ='matter',showscale=False,\n",
        "         contours=dict(x=dict(show=True),y=dict(show=True),z=dict(show=True))))\n",
        "fig.update_layout(title='Ring with star-shape cross section',autosize=False)\n",
        "plt.show()"
      ],
      "metadata": {
        "id": "x9gyWBh2myua"
      },
      "execution_count": null,
      "outputs": []
    },
    {
      "cell_type": "markdown",
      "source": [
        "**16.7. Solutions to exercises in Chapter 13**"
      ],
      "metadata": {
        "id": "GamyaajVm0Oc"
      }
    },
    {
      "cell_type": "markdown",
      "source": [
        "**E.13.1.**\n",
        "**Equation E13-1 matches with Figure E13-4**"
      ],
      "metadata": {
        "id": "orT-gX1em18k"
      }
    },
    {
      "cell_type": "code",
      "source": [
        "import numpy as np\n",
        "import plotly.graph_objects as go\n",
        "u   = np.linspace(-6*np.pi,6*np.pi,50)\n",
        "v   = np.linspace(0.0001,np.pi,50)\n",
        "U, V = np.meshgrid(u,v)\n",
        "r = U\n",
        "X = r * np.cos(V)\n",
        "Y = r * np.sin(V)\n",
        "Z = np.sin(X)*np.sin(Y)/(X*Y)\n",
        "fig = go.Figure(go.Surface(x=X,y=Y,z=Z,opacity=1,colorscale ='edge',showscale=False,\n",
        "            contours=dict(x=dict(show=True),y=dict(show=True),z=dict(show=True))))\n",
        "fig.update_layout(scene = dict(aspectratio = dict(x=1, y=1, z=1)))\n",
        "plt.show()"
      ],
      "metadata": {
        "id": "ScetZr3dm4_E"
      },
      "execution_count": null,
      "outputs": []
    },
    {
      "cell_type": "markdown",
      "source": [
        "**Equation E13-2 matches with Figure E13-6**"
      ],
      "metadata": {
        "id": "dxaeXnfRm5kk"
      }
    },
    {
      "cell_type": "code",
      "source": [
        "import numpy as np\n",
        "import plotly.graph_objects as go\n",
        "u = np.linspace(0,np.pi/2,50)\n",
        "v = np.linspace(0,2*np.pi,50)\n",
        "U,V = np.meshgrid(u,v)\n",
        "r = U\n",
        "X = r * np.cos(V)\n",
        "Y = r * np.sin(V)\n",
        "Z = r**2\n",
        "fig=go.Figure(go.Surface(x=X,y=Y,z=Z,opacity=1,colorscale ='agsunset',showscale=False,\n",
        "            contours=dict(x=dict(show=True),y=dict(show=True),z=dict(show=True))))\n",
        "fig.update_layout(scene = dict(aspectratio = dict(x=1, y=1, z=1)))\n",
        "plt.show()"
      ],
      "metadata": {
        "id": "lZdoev2Tm6w_"
      },
      "execution_count": null,
      "outputs": []
    },
    {
      "cell_type": "markdown",
      "source": [
        "**Equation E13-3 matches with Figure E13-2**"
      ],
      "metadata": {
        "id": "6xgrvrEom8lz"
      }
    },
    {
      "cell_type": "code",
      "source": [
        "import numpy as np\n",
        "import plotly.graph_objects as go\n",
        "from plotly.subplots import make_subplots\n",
        "u = np.linspace(0,np.pi/2,50)\n",
        "v = np.linspace(0,2*np.pi,50)\n",
        "U,V = np.meshgrid(u,v)\n",
        "r = U\n",
        "X = r * np.cos(V)\n",
        "Y = r * np.sin(V)\n",
        "Z = r**2 - 2*Y**2\n",
        "fig = go.Figure(go.Surface(x=X,y=Y,z=Z,opacity=1,colorscale ='oranges',showscale=False,\n",
        "            contours=dict(x=dict(show=True),y=dict(show=True),z=dict(show=True))))\n",
        "fig.update_layout(scene = dict(aspectratio = dict(x=1, y=1, z=.4)))\n",
        "plt.show()"
      ],
      "metadata": {
        "id": "lwUNeSmvm94a"
      },
      "execution_count": null,
      "outputs": []
    },
    {
      "cell_type": "markdown",
      "source": [
        "**Equation E13-4 matches with Figure E13-1**"
      ],
      "metadata": {
        "id": "l3UvNlBdm_DK"
      }
    },
    {
      "cell_type": "code",
      "source": [
        "import numpy as np\n",
        "import plotly.graph_objects as go\n",
        "u = np.linspace(0,8*np.pi,100)\n",
        "v = np.linspace(0,2*np.pi,100)\n",
        "U, V = np.meshgrid(u,v)\n",
        "r = U\n",
        "X = r * np.cos(V)\n",
        "Y = r * np.sin(V)\n",
        "Z = -U**3/40 + 20* np.sin(U) + 50*np.sin(6*V)\n",
        "fig = go.Figure(go.Surface(x=X,y=Y,z=Z,opacity=1,colorscale ='tropic',showscale=False,\n",
        "            contours=dict(x=dict(show=True),y=dict(show=True),z=dict(show=True))))\n",
        "fig.update_layout(scene = dict(aspectratio = dict(x=1, y=1, z=1)))\n",
        "plt.show()"
      ],
      "metadata": {
        "id": "kn8IRIhDnAvq"
      },
      "execution_count": null,
      "outputs": []
    },
    {
      "cell_type": "markdown",
      "source": [
        "**Equation E13-5 matches with Figure E13-3**"
      ],
      "metadata": {
        "id": "J6vNv4ZqnCVj"
      }
    },
    {
      "cell_type": "code",
      "source": [
        "import numpy as np\n",
        "import plotly.graph_objects as go\n",
        "u = np.linspace(0,8*np.pi,100)\n",
        "v = np.linspace(0,2*np.pi,100)\n",
        "U, V = np.meshgrid(u,v)\n",
        "A = 8\n",
        "B = 5\n",
        "C = 1\n",
        "r = U\n",
        "X = r * np.cos(V)\n",
        "Y = r * np.sin(V)\n",
        "Z = 0.05*r**2 + A*np.cos(B*V + C*U)\n",
        "fig = go.Figure(go.Surface(x=X,y=Y,z=Z,opacity=1,colorscale ='ice',showscale=False,\n",
        "            contours=dict(x=dict(show=True),y=dict(show=True),z=dict(show=True))))\n",
        "fig.update_layout(scene = dict(aspectratio = dict(x=1, y=1, z=.5)))\n",
        "plt.show()"
      ],
      "metadata": {
        "id": "IqzPhkdYnDmq"
      },
      "execution_count": null,
      "outputs": []
    },
    {
      "cell_type": "markdown",
      "source": [
        "**Equation E13-6 matches with Figure E13-5**"
      ],
      "metadata": {
        "id": "ajNCPcCHnFQs"
      }
    },
    {
      "cell_type": "code",
      "source": [
        "import numpy as np\n",
        "import plotly.graph_objects as go\n",
        "u = np.linspace(0,60,100)\n",
        "v = np.linspace(0,2*np.pi,50)\n",
        "U, V = np.meshgrid(u,v)\n",
        "r = U**3\n",
        "X = r * np.cos(V)\n",
        "Y = r * np.sin(V)\n",
        "Z = np.cos(U) * Y * X\n",
        "fig = go.Figure(go.Surface(x=X,y=Y,z=Z,opacity=1,colorscale ='blues',showscale=False,\n",
        "           contours=dict(x=dict(show=True),y=dict(show=True),z=dict(show=True))))\n",
        "fig.update_layout(scene = dict(aspectratio = dict(x=1, y=1, z=.4)))\n",
        "plt.show()"
      ],
      "metadata": {
        "id": "ci3ZvRNjnDro"
      },
      "execution_count": null,
      "outputs": []
    },
    {
      "cell_type": "markdown",
      "source": [
        "**E.13.2.**\n",
        "**Equation E13-7 matches with Figure E13-9**"
      ],
      "metadata": {
        "id": "UXWB36DKnIRB"
      }
    },
    {
      "cell_type": "code",
      "source": [
        "import numpy as np\n",
        "import plotly.graph_objects as go\n",
        "u = np.linspace(0,2*np.pi,100)\n",
        "v = np.linspace(0,np.pi,50)\n",
        "U,V = np.meshgrid(u,v)\n",
        "A = 1\n",
        "B = A/5\n",
        "r = np.sin(3*U)\n",
        "X = np.cos(V)\n",
        "Y = ((A-B)*np.sin(U) - B*np.sin((A-B)*U/B)) * np.sin(V)\n",
        "Z = 4*np.cos(U)**3 * np.sin(V)\n",
        "fig = go.Figure(go.Surface(x=X,y=Y,z=Z,opacity=1,colorscale ='hsv',showscale=False,\n",
        "             contours=dict(x=dict(show=True),y=dict(show=True),z=dict(show=True))))\n",
        "fig.update_layout(title='Mushroom',autosize=False)\n",
        "plt.show()"
      ],
      "metadata": {
        "id": "QWcJeEDGnJ9E"
      },
      "execution_count": null,
      "outputs": []
    },
    {
      "cell_type": "markdown",
      "source": [
        "**Equation E13-8 matches with Figure E13-7**"
      ],
      "metadata": {
        "id": "p92bAufGnLs6"
      }
    },
    {
      "cell_type": "code",
      "source": [
        "import numpy as np\n",
        "import plotly.graph_objects as go\n",
        "u = np.linspace(0,np.pi,90)\n",
        "v = np.linspace(0,2*np.pi,80)\n",
        "U, V = np.meshgrid(u,v)\n",
        "r = 0.9*np.cos(3*U - np.abs(np.cos(4*V)))\n",
        "X = r * np.cos(U) * np.cos(V)\n",
        "Y = r * np.sin(U) * np.cos(V)\n",
        "Z = r * np.sin(V)\n",
        "fig = go.Figure(go.Surface(x=X,y=Y,z=Z,opacity=1,colorscale ='spectral',showscale=False,\n",
        "            contours=dict(x=dict(show=True),y=dict(show=True),z=dict(show=True))))\n",
        "fig.update_layout(scene = dict(aspectratio = dict(x=1, y=1, z=1)))\n",
        "plt.show()"
      ],
      "metadata": {
        "id": "RNUYSwgsnNvj"
      },
      "execution_count": null,
      "outputs": []
    },
    {
      "cell_type": "markdown",
      "source": [
        "**Equation E13-9 matches with Figure E13-10**"
      ],
      "metadata": {
        "id": "VufLIwq5nPNU"
      }
    },
    {
      "cell_type": "code",
      "source": [
        "import numpy as np\n",
        "import plotly.graph_objects as go\n",
        "u = np.linspace(0,2*np.pi,90)\n",
        "v = np.linspace(0,np.pi,80)\n",
        "U, V = np.meshgrid(u,v)\n",
        "A = 9\n",
        "r = 7 + np.sin(A*U)\n",
        "X = r * np.cos(V)\n",
        "Y = r * np.cos(U) * np.sin(V)\n",
        "Z = r * np.sin(U) * np.sin(V)\n",
        "fig = go.Figure(go.Surface(x=X,y=Y,z=Z,opacity=1,colorscale ='burgyl',showscale=False,\n",
        "            contours=dict(x=dict(show=True),y=dict(show=True),z=dict(show=True))))\n",
        "fig.update_layout(scene = dict(aspectratio = dict(x=1.6, y=1, z=1)))\n",
        "plt.show()"
      ],
      "metadata": {
        "id": "H0X1uf3xnQbr"
      },
      "execution_count": null,
      "outputs": []
    },
    {
      "cell_type": "markdown",
      "source": [
        "**Equation E13-10 matches with Figure E13-12**"
      ],
      "metadata": {
        "id": "CsHklkbVnSA0"
      }
    },
    {
      "cell_type": "code",
      "source": [
        "import numpy as np\n",
        "import plotly.graph_objects as go\n",
        "u = np.linspace(-3*np.pi/19,3*np.pi/19,90)\n",
        "v = np.linspace(0,2*np.pi,80)\n",
        "U, V = np.meshgrid(u,v)\n",
        "A = .8\n",
        "B = 12\n",
        "r = np.cos(np.pi*U + 0.5*A*np.sin(B*V))\n",
        "X = r * np.cos(V)\n",
        "Y = -r * np.sin(V)\n",
        "Z = U\n",
        "fig = go.Figure(go.Surface(x=X,y=Y,z=Z,opacity=1,colorscale ='rdylgn',showscale=False,\n",
        "            contours=dict(x=dict(show=True),y=dict(show=True),z=dict(show=True))))\n",
        "fig.update_layout(scene = dict(aspectratio = dict(x=1, y=1, z=1)))\n",
        "plt.show()"
      ],
      "metadata": {
        "id": "auTMJCTxnTrS"
      },
      "execution_count": null,
      "outputs": []
    },
    {
      "cell_type": "markdown",
      "source": [
        "**Equation E13-11 matches with Figure E13-11**"
      ],
      "metadata": {
        "id": "j_FTmtIenU4z"
      }
    },
    {
      "cell_type": "code",
      "source": [
        "import numpy as np\n",
        "import plotly.graph_objects as go\n",
        "u = np.linspace(0,2*np.pi,100)\n",
        "v = np.linspace(0,np.pi,100)\n",
        "U, V = np.meshgrid(u,v)\n",
        "A = 3\n",
        "B = 25\n",
        "r = 2 + np.sin(A*U + B*V)\n",
        "X = r * np.cos(U) * np.sin(V)\n",
        "Y = r * np.sin(U) * np.sin(V)\n",
        "Z = r * np.cos(V)\n",
        "fig = go.Figure(go.Surface(x=X,y=Y,z=Z,opacity=1,colorscale ='ylorbr',showscale=False,\n",
        "            contours=dict(x=dict(show=True),y=dict(show=True),z=dict(show=True))))\n",
        "fig.update_layout(scene = dict(aspectratio = dict(x=1, y=1, z=1)))\n",
        "plt.show()"
      ],
      "metadata": {
        "id": "gqCoT8sInWFz"
      },
      "execution_count": null,
      "outputs": []
    },
    {
      "cell_type": "markdown",
      "source": [
        "**Equation E13-12 matches with Figure E13-8**"
      ],
      "metadata": {
        "id": "neAYEOiOnXrr"
      }
    },
    {
      "cell_type": "code",
      "source": [
        "import numpy as np\n",
        "import plotly.graph_objects as go\n",
        "u = np.linspace(0,8*np.pi,100)\n",
        "v = np.linspace(np.pi/5,3*np.pi/4,50)\n",
        "U, V = np.meshgrid(u,v)\n",
        "r = U\n",
        "X = r * np.cos(U) * np.cos(V)\n",
        "Y = r * np.sin(U) * np.cos(V)\n",
        "Z = -r *np.sin(2*V) - r\n",
        "fig = go.Figure(go.Surface(x=X,y=Y,z=Z,opacity=1,colorscale ='geyser',showscale=False,\n",
        "            contours=dict(x=dict(show=True),y=dict(show=True),z=dict(show=True))))\n",
        "fig.update_layout(scene = dict(aspectratio = dict(x=1, y=1, z=1)))\n",
        "plt.show()"
      ],
      "metadata": {
        "id": "YwgXqwLKnY9D"
      },
      "execution_count": null,
      "outputs": []
    },
    {
      "cell_type": "markdown",
      "source": [
        "**16.8. Solutions to exercises in Chapter 14**"
      ],
      "metadata": {
        "id": "XoTQQbxXnaVL"
      }
    },
    {
      "cell_type": "markdown",
      "source": [
        "**E.14.1.**\n",
        "**Equation E14-1 matches with Figure E14-2**"
      ],
      "metadata": {
        "id": "NwSQHPBfIshl"
      }
    },
    {
      "cell_type": "code",
      "source": [
        "import numpy as np\n",
        "import plotly.graph_objects as go\n",
        "ub = np.linspace(-np.pi/2,np.pi/2,100)\n",
        "vb = np.linspace(0,2*np.pi/3,100)\n",
        "Ub,Vb = np.meshgrid(ub,vb)\n",
        "Uf = Ub\n",
        "Vf = Vb + Vb*np.abs(Ub)\n",
        "X = -Vf\n",
        "Z = Uf\n",
        "Y = X * np.sin(5*X) * np.sin(7*Z)\n",
        "fig = go.Figure(go.Surface(x=X,y=Y,z=Z,opacity=1,colorscale ='blues',showscale=False,\n",
        "          contours=dict(x=dict(show=True),y=dict(show=True),z=dict(show=False))))\n",
        "fig.update_layout(scene = dict(aspectratio =dict(x=2, y=.3, z=1)))\n",
        "plt.show()"
      ],
      "metadata": {
        "id": "ZEdIuXzCIutV"
      },
      "execution_count": null,
      "outputs": []
    },
    {
      "cell_type": "markdown",
      "source": [
        "**Equation E14-2 matches with Figure E14-4**"
      ],
      "metadata": {
        "id": "NQGNi_D2IxGJ"
      }
    },
    {
      "cell_type": "code",
      "source": [
        "import numpy as np\n",
        "import plotly.graph_objects as go\n",
        "import matplotlib.pyplot as plt\n",
        "ub   = np.linspace(0,2*np.pi,150)\n",
        "vb   = np.linspace(0,1,100)\n",
        "Ub,Vb = np.meshgrid(ub,vb)\n",
        "r   = (5*Vb + 3*np.cos(np.sin(6*Ub)))/20\n",
        "Uf   = 5*r*(2*np.cos(Ub) + np.cos(2*Ub))\n",
        "Vf   = 5*r*(2*np.sin(Ub) - np.sin(2*Ub))\n",
        "X = Uf\n",
        "Y = Vf\n",
        "Z = -(X**2+Y**2)/10\n",
        "fig = go.Figure(go.Surface(x=X,y=Y,z=Z,opacity=1,colorscale ='phase',showscale=False,\n",
        "              contours=dict(x=dict(show=True),y=dict(show=True),z=dict(show=False))))\n",
        "fig.update_layout(title='roof',autosize=False)\n",
        "plt.show()"
      ],
      "metadata": {
        "id": "Khy6-UWPIxyF"
      },
      "execution_count": null,
      "outputs": []
    },
    {
      "cell_type": "markdown",
      "source": [
        "**Equation E14-3 matches with Figure E14-1**"
      ],
      "metadata": {
        "id": "FgmEm4VfIzz2"
      }
    },
    {
      "cell_type": "code",
      "source": [
        "import numpy as np\n",
        "import plotly.graph_objects as go\n",
        "import matplotlib.pyplot as plt\n",
        "ub = np.linspace(-np.pi,np.pi,200)\n",
        "vb = np.linspace(0,np.pi/3,200)\n",
        "Ub,Vb = np.meshgrid(ub,vb)\n",
        "r = Vb + 3*np.cos(3*np.sin(3*Ub))\n",
        "Uf = r * np.sin(Ub)\n",
        "Vf = r * np.cos(Ub)\n",
        "X = Uf\n",
        "Y = Vf\n",
        "Z = np.sqrt(X**2 + Y**3)\n",
        "fig = go.Figure(go.Surface(x=X,y=Y,z=Z,opacity=1,colorscale ='ylorrd',showscale=False,\n",
        "              contours=dict(x=dict(show=True),y=dict(show=True),z=dict(show=True))))\n",
        "fig.update_layout(title='flower',autosize=False)\n",
        "plt.show()"
      ],
      "metadata": {
        "id": "G-H2X4vZI0gF"
      },
      "execution_count": null,
      "outputs": []
    },
    {
      "cell_type": "markdown",
      "source": [
        "**Equation E14-4 matches with Figure E14-3**"
      ],
      "metadata": {
        "id": "5wDRthM7I2kl"
      }
    },
    {
      "cell_type": "code",
      "source": [
        "import numpy as np\n",
        "import plotly.graph_objects as go\n",
        "ub   = np.linspace(0,2*np.pi,150)\n",
        "vb   = np.linspace(np.pi/3,2*np.pi,10)\n",
        "Ub,Vb = np.meshgrid(ub,vb)\n",
        "r = Vb + np.cos(3*np.sin(1.5*Ub))\n",
        "Uf = r * np.sin(Ub)**3\n",
        "Vf = r * np.cos(Ub)**3\n",
        "X = Uf\n",
        "Y = -Vf\n",
        "Z = np.cos(1.5*X) + np.cos(Y)\n",
        "fig = go.Figure(go.Surface(x=X,y=Y,z=Z,opacity=1,colorscale ='haline',showscale=False,\n",
        "         contours=dict(x=dict(show=True),y=dict(show=True),z=dict(show=True))))\n",
        "fig.update_layout(scene = dict(aspectratio = dict(x=1, y=1, z=.1)))\n",
        "plt.show()"
      ],
      "metadata": {
        "id": "ZpWqwj2xI3Nu"
      },
      "execution_count": null,
      "outputs": []
    },
    {
      "cell_type": "markdown",
      "source": [
        "**E.14.2.**\n",
        "**Equation E14-5 matches with Figure E14-8**"
      ],
      "metadata": {
        "id": "F9Yy6pVXI4uH"
      }
    },
    {
      "cell_type": "code",
      "source": [
        "import numpy as np\n",
        "import plotly.graph_objects as go\n",
        "ub   = np.linspace(0,2*np.pi,300)\n",
        "vb   = np.linspace(1,3,300)\n",
        "Ub,Vb = np.meshgrid(ub,vb)\n",
        "r = Vb + np.cos(4*np.sin(5*Ub))\n",
        "Uf = r * np.cos(Ub)\n",
        "Vf = r * np.sin(Ub)\n",
        "X = Uf * np.cos(Vf)\n",
        "Y = Uf * np.sin(Vf)\n",
        "Z = Vf\n",
        "fig = go.Figure(go.Surface(x=X,y=Y,z=Z,opacity=1,colorscale ='rainbow',showscale=False,\n",
        "              contours=dict(x=dict(show=True),y=dict(show=True),z=dict(show=True))))\n",
        "fig.update_layout(title='Helicoidal star-shaped',autosize=False)\n",
        "plt.show()"
      ],
      "metadata": {
        "id": "ZbAfq-ZeI60V"
      },
      "execution_count": null,
      "outputs": []
    },
    {
      "cell_type": "markdown",
      "source": [
        "**Equation E14-6 matches with Figure E14-7**"
      ],
      "metadata": {
        "id": "E5pjNGgUI8uu"
      }
    },
    {
      "cell_type": "code",
      "source": [
        "import numpy as np\n",
        "import plotly.graph_objects as go\n",
        "ub = np.linspace(-np.pi/4,np.pi/4,100)\n",
        "vb = np.linspace(0,2,100)\n",
        "Ub,Vb = np.meshgrid(ub,vb)\n",
        "rb = Vb + np.cos(4*np.sin(3*Ub))\n",
        "Uf = rb * np.sin(Ub)\n",
        "Vf = rb * np.cos(Ub)\n",
        "rf = np.sqrt(1-Uf**2)-np.pi/5\n",
        "X = rf * np.cos(Vf)\n",
        "Y = Uf\n",
        "Z = rf * np.sin(Vf)\n",
        "fig = go.Figure(go.Surface(x=X,y=Y,z=Z,opacity=1,colorscale ='viridis',showscale=False,\n",
        "         contours=dict(x=dict(show=True),y=dict(show=True),z=dict(show=True))))\n",
        "fig.update_layout(title='Five-pointed star on a ball of football',autosize=False)\n",
        "plt.show()"
      ],
      "metadata": {
        "id": "K-ik4eF1I-K4"
      },
      "execution_count": null,
      "outputs": []
    },
    {
      "cell_type": "markdown",
      "source": [
        "**Equation E14-7 matches with Figure E14-1**"
      ],
      "metadata": {
        "id": "pCS1WqRFJAe4"
      }
    },
    {
      "cell_type": "code",
      "source": [
        "import numpy as np\n",
        "import plotly.graph_objects as go\n",
        "import matplotlib.pyplot as plt\n",
        "ub   = np.linspace(-np.pi/2,np.pi/2,200)\n",
        "vb   = np.linspace(1.5,6,200)\n",
        "Ub,Vb = np.meshgrid(ub,vb)\n",
        "rb   = Vb + 3*np.cos(3*np.sin(6*Ub))\n",
        "Uf  = rb * np.sin(Ub)/np.pi\n",
        "Vf  = rb * np.cos(Ub)/np.pi\n",
        "rf = 1\n",
        "X = rf * np.cos(Uf) * np.sin(Vf)\n",
        "Y = rf * np.sin(Uf) * np.sin(Vf)\n",
        "Z = rf * np.cos(Vf)\n",
        "fig = go.Figure(go.Surface(x=X,y=Y,z=Z,opacity=1,colorscale ='matter',showscale=False,\n",
        "              contours=dict(x=dict(show=True),y=dict(show=True),z=dict(show=True))))\n",
        "fig.update_layout(title='Five-pointed star on a sphere',autosize=False)\n",
        "plt.show()"
      ],
      "metadata": {
        "id": "InCZJiD5JBNg"
      },
      "execution_count": null,
      "outputs": []
    },
    {
      "cell_type": "markdown",
      "source": [
        "**Equation E14-8 matches with Figure E14-6**"
      ],
      "metadata": {
        "id": "TyuMto4VJDhL"
      }
    },
    {
      "cell_type": "code",
      "source": [
        "import numpy as np\n",
        "import plotly.graph_objects as go\n",
        "import matplotlib.pyplot as plt\n",
        "ub = np.linspace(0,np.pi,200)\n",
        "vb = np.linspace(.3,5,200)\n",
        "Ub,Vb = np.meshgrid(ub,vb)\n",
        "r = (Vb + 3*np.cos(3*np.sin(3*Ub)))/2\n",
        "Uf = r * np.sin(Ub)**3\n",
        "Vf = r * np.cos(Ub)**3\n",
        "r1 = 2\n",
        "r2 = 3\n",
        "r3 = 1\n",
        "X = r1 * np.sin(Vf) * np.cos(Uf)\n",
        "Y = r2 * np.sin(Vf) * np.sin(Uf)\n",
        "Z = r3 * np.cos(Vf)\n",
        "fig = go.Figure(go.Surface(x=X,y=Y,z=Z,opacity=1,colorscale ='piyg',showscale=False,\n",
        "           contours=dict(x=dict(show=True),y=dict(show=True),z=dict(show=False))))\n",
        "fig.update_layout(title='Orbit',autosize=False)\n",
        "plt.show()"
      ],
      "metadata": {
        "id": "DS4TUl_nJE5n"
      },
      "execution_count": null,
      "outputs": []
    }
  ]
}