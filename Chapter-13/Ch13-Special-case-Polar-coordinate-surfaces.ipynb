{
  "cells": [
    {
      "cell_type": "markdown",
      "metadata": {
        "id": "RGwbLVd3G0w_"
      },
      "source": [
        "**Example: Waves on water’s surface**"
      ]
    },
    {
      "cell_type": "code",
      "execution_count": null,
      "metadata": {
        "colab": {
          "base_uri": "https://localhost:8080/",
          "height": 542
        },
        "id": "HD0MiCyfGmmM",
        "outputId": "d0ca3e10-9d95-4c4d-cc5d-2ab5a13c7006"
      },
      "outputs": [],
      "source": [
        "import numpy as np\n",
        "import plotly.graph_objects as go\n",
        "u = np.linspace(0,9*np.pi,50)\n",
        "v = np.linspace(0,2*np.pi,50)\n",
        "U,V = np.meshgrid(u,v)\n",
        "r = U\n",
        "X = r * np.cos(V)\n",
        "Y = r * np.sin(V)\n",
        "Z = np.sin(r)\n",
        "fig = go.Figure(go.Surface(x=X,y=Y,z=Z,opacity=1,colorscale='ylorrd',showscale=False,\n",
        "                     contours=dict(x=dict(show=True),y=dict(show=True),z=dict(show=False))))\n",
        "fig.update_layout(scene = dict(aspectratio = dict(x=1, y=1, z=.1)))\n",
        "fig.show()"
      ]
    },
    {
      "cell_type": "markdown",
      "metadata": {
        "id": "fryJhwq6Hnjf"
      },
      "source": [
        "**Example: Cowboy hat**"
      ]
    },
    {
      "cell_type": "code",
      "execution_count": null,
      "metadata": {
        "colab": {
          "base_uri": "https://localhost:8080/",
          "height": 542
        },
        "id": "PisGZEe9Hpfo",
        "outputId": "35faee7f-42ad-488e-f7d4-c6a483f02051"
      },
      "outputs": [],
      "source": [
        "import numpy as np\n",
        "import plotly.graph_objects as go\n",
        "u = np.linspace(0,2*np.pi/3,100)\n",
        "v = np.linspace(0,2*np.pi,100)\n",
        "U, V = np.meshgrid(u,v)\n",
        "r = U\n",
        "X = r * np.cos(V)\n",
        "Y = r * np.sin(V)\n",
        "Z = np.sin(X**2+Y**2) * np.exp(-X**2) + np.cos(X**2+Y**2)\n",
        "fig = go.Figure(go.Surface(x=X,y=Y,z=Z,opacity=1,colorscale ='burg',showscale=False,\n",
        "                    contours=dict(x=dict(show=True),y=dict(show=True),z=dict(show=True))))\n",
        "fig.update_layout(scene = dict(aspectratio = dict(x=1, y=1, z=.5)))\n",
        "fig.show()"
      ]
    },
    {
      "cell_type": "markdown",
      "metadata": {
        "id": "et2cFP4nH8KQ"
      },
      "source": [
        "**Example: Spiral toboggan**"
      ]
    },
    {
      "cell_type": "code",
      "execution_count": null,
      "metadata": {
        "colab": {
          "base_uri": "https://localhost:8080/",
          "height": 542
        },
        "id": "-s0t0N_aH83p",
        "outputId": "4abf998b-8113-45e2-d763-814c68837271"
      },
      "outputs": [],
      "source": [
        "import numpy as np\n",
        "import plotly.graph_objects as go\n",
        "u = np.linspace(0,5*np.pi,100)\n",
        "v = np.linspace(0,np.pi,50)\n",
        "U, V = np.meshgrid(u,v)\n",
        "r = U\n",
        "X = r * np.cos(U) * np.cos(V)\n",
        "Y = r * np.sin(U) * np.cos(V)\n",
        "Z = -r *np.sin(V) - np.sqrt((X)**2 + (Y)**2)\n",
        "fig = go.Figure(go.Surface(x=X,y=Y,z=Z,opacity=1,colorscale ='ylorrd',showscale=False,\n",
        "                contours=dict(x=dict(show=True),y=dict(show=True),z=dict(show=True))))\n",
        "fig.update_layout(scene = dict(aspectratio = dict(x=1, y=1, z=1)))\n",
        "fig.show()"
      ]
    },
    {
      "cell_type": "markdown",
      "metadata": {
        "id": "O94dUBL2IHmP"
      },
      "source": [
        "**Example: Ship's propeller**"
      ]
    },
    {
      "cell_type": "code",
      "execution_count": null,
      "metadata": {
        "colab": {
          "base_uri": "https://localhost:8080/",
          "height": 542
        },
        "id": "4FdgIXNJIIQI",
        "outputId": "df992bc5-36ff-4097-ec90-10d42b5aab65"
      },
      "outputs": [],
      "source": [
        "import numpy as np\n",
        "import plotly.graph_objects as go\n",
        "u = np.linspace(0,2*np.pi,90)\n",
        "v = np.linspace(0,np.pi,80)\n",
        "U, V = np.meshgrid(u,v)\n",
        "A = 4\n",
        "B = 2\n",
        "r = 2 + np.sin(A*U + B*V)\n",
        "X = r * np.cos(U) * np.sin(V)\n",
        "Y = r * np.cos(V)/5\n",
        "Z = r * np.sin(U) * np.sin(V)\n",
        "fig = go.Figure(go.Surface(x=X,y=Y,z=Z,opacity=1,colorscale ='temps',showscale=False,\n",
        "                   contours=dict(x=dict(show=True),y=dict(show=True),z=dict(show=True))))\n",
        "fig.update_layout(scene = dict(aspectratio = dict(x=1.5, y=.4, z=1.5)))\n",
        "fig.show()"
      ]
    },
    {
      "cell_type": "markdown",
      "metadata": {
        "id": "iAyRnDBcIXoI"
      },
      "source": [
        "**Model the powerboat hull**"
      ]
    },
    {
      "cell_type": "code",
      "execution_count": null,
      "metadata": {
        "colab": {
          "base_uri": "https://localhost:8080/",
          "height": 542
        },
        "id": "oKKo5O2eIaLP",
        "outputId": "2f5650b3-9104-4a42-a230-cc0b2d71ae41"
      },
      "outputs": [],
      "source": [
        "import numpy as np\n",
        "import plotly.graph_objects as go\n",
        "u = np.linspace(0,7*np.pi,90)\n",
        "v = np.linspace(0,np.pi,80)\n",
        "U, V = np.meshgrid(u,v)\n",
        "r = U + np.sin(U + V)\n",
        "X = r * np.cos(U) * np.sin(V)\n",
        "Y = r * np.cos(V)\n",
        "Z = r * np.sin(U) * np.sin(V)\n",
        "fig = go.Figure(go.Surface(x=X,y=Y,z=Z,opacity=1,colorscale ='tealgrn',showscale=False,\n",
        "                   contours=dict(x=dict(show=True),y=dict(show=True),z=dict(show=True))))\n",
        "fig.update_layout(scene = dict(aspectratio = dict(x=1, y=1, z=1)))\n",
        "fig.show()"
      ]
    },
    {
      "cell_type": "code",
      "execution_count": null,
      "metadata": {
        "colab": {
          "base_uri": "https://localhost:8080/",
          "height": 542
        },
        "id": "hml_9RIlJRYV",
        "outputId": "7af390e9-ca15-403a-d1c2-2785b1343c48"
      },
      "outputs": [],
      "source": [
        "import numpy as np\n",
        "import plotly.graph_objects as go\n",
        "u = np.linspace(np.pi/2,2*np.pi,90)\n",
        "v = np.linspace(0,np.pi,80)\n",
        "U, V = np.meshgrid(u,v)\n",
        "r = (2**u + np.sin(U + V))/10\n",
        "X = r * np.cos(U) * np.sin(V)\n",
        "Y = r * np.cos(V)/5\n",
        "Z = r * np.sin(U) * np.sin(V)\n",
        "fig = go.Figure(go.Surface(x=X,y=Y,z=Z,opacity=1,colorscale ='tealgrn',showscale=False,\n",
        "                contours=dict(x=dict(show=True),y=dict(show=True),z=dict(show=True))))\n",
        "fig.update_layout(scene = dict(aspectratio = dict(x=3, y=1, z=.6)))\n",
        "fig.show()"
      ]
    }
  ],
  "metadata": {
    "colab": {
      "provenance": []
    },
    "kernelspec": {
      "display_name": "Python 3",
      "name": "python3"
    },
    "language_info": {
      "name": "python"
    }
  },
  "nbformat": 4,
  "nbformat_minor": 0
}
